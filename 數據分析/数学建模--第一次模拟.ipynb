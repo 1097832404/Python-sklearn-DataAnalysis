{
 "cells": [
  {
   "cell_type": "markdown",
   "metadata": {},
   "source": [
    "## 读数据"
   ]
  },
  {
   "cell_type": "code",
   "execution_count": 1,
   "metadata": {},
   "outputs": [],
   "source": [
    "import pandas as pd\n",
    "import numpy as np\n",
    "from pandas import Series, DataFrame\n",
    "import matplotlib.pyplot as plt\n",
    "from datetime import datetime\n",
    "import seaborn as sns\n",
    "sns.set()\n",
    "plt.rcParams['font.sans-serif'] = ['SimHei'] # 显示中文标题 \n",
    "plt.rcParams['axes.unicode_minus'] = False # 正常显示正负号 "
   ]
  },
  {
   "cell_type": "code",
   "execution_count": 2,
   "metadata": {},
   "outputs": [],
   "source": [
    "df = pd.read_excel('D:/2018 广东金融学院数学建模第一次模拟(1)/2018 广东金融学院数学建模第一次模拟/附件1.xls')\n",
    "df.head()\n",
    "\n",
    "df = df.drop(6329)\n",
    "df['y'] = df['y'].astype('float')\n",
    "X = df.loc[:,'x1':'x6']\n",
    "y = df.loc[:,'y']"
   ]
  },
  {
   "cell_type": "code",
   "execution_count": 3,
   "metadata": {},
   "outputs": [
    {
     "name": "stdout",
     "output_type": "stream",
     "text": [
      "y为0:1380\n",
      "y为1:4949\n"
     ]
    }
   ],
   "source": [
    "print('y为0:' + str(sum(df['y']==0)))\n",
    "print('y为1:' + str(sum(df['y']==1)))"
   ]
  },
  {
   "cell_type": "markdown",
   "metadata": {},
   "source": [
    "# 归一化"
   ]
  },
  {
   "cell_type": "code",
   "execution_count": 4,
   "metadata": {},
   "outputs": [
    {
     "data": {
      "text/plain": [
       "array([[ 0.2758816 ,  0.2835792 , -1.43131103, -0.85056771, -1.96679011,\n",
       "        -0.93448911],\n",
       "       [ 0.06160444, -0.84846385,  0.69866017,  0.98670839,  0.08042178,\n",
       "         1.25440119],\n",
       "       [-1.45866856, -1.05893072,  0.69866017,  0.20350486, -0.14463131,\n",
       "         1.25440119],\n",
       "       ...,\n",
       "       [-0.10418665,  0.69913931,  0.69866017, -0.4941611 , -0.62698808,\n",
       "        -0.93448911],\n",
       "       [ 1.11578551, -0.60127724, -1.43131103, -0.71156913,  0.82358774,\n",
       "        -0.93448911],\n",
       "       [-1.2279687 ,  0.4537439 ,  0.69866017,  1.82069987, -0.69008708,\n",
       "         1.25440119]])"
      ]
     },
     "execution_count": 4,
     "metadata": {},
     "output_type": "execute_result"
    }
   ],
   "source": [
    "from sklearn.preprocessing import StandardScaler\n",
    "\n",
    "standardScaler = StandardScaler()\n",
    "standardScaler.fit(X)\n",
    "X_standard = standardScaler.transform(X)\n",
    "X_standard"
   ]
  },
  {
   "cell_type": "markdown",
   "metadata": {},
   "source": [
    "## 随机逻辑回归"
   ]
  },
  {
   "cell_type": "markdown",
   "metadata": {},
   "source": [
    "#### 算出可以使用的参数"
   ]
  },
  {
   "cell_type": "code",
   "execution_count": 5,
   "metadata": {},
   "outputs": [],
   "source": [
    "from sklearn.linear_model import LogisticRegression as LR\n",
    "from sklearn.linear_model import RandomizedLogisticRegression as RLR"
   ]
  },
  {
   "cell_type": "code",
   "execution_count": 6,
   "metadata": {},
   "outputs": [
    {
     "name": "stderr",
     "output_type": "stream",
     "text": [
      "D:\\ruanjian\\Anaconda3\\lib\\site-packages\\sklearn\\utils\\deprecation.py:58: DeprecationWarning: Class RandomizedLogisticRegression is deprecated; The class RandomizedLogisticRegression is deprecated in 0.19 and will be removed in 0.21.\n",
      "  warnings.warn(msg, category=DeprecationWarning)\n"
     ]
    },
    {
     "data": {
      "text/plain": [
       "array([ True, False, False, False, False,  True])"
      ]
     },
     "execution_count": 6,
     "metadata": {},
     "output_type": "execute_result"
    }
   ],
   "source": [
    "rlr = RLR()\n",
    "rlr.fit(X_standard,y)\n",
    "\n",
    "## 算出使用的参数\n",
    "rlr.get_support()"
   ]
  },
  {
   "cell_type": "markdown",
   "metadata": {},
   "source": [
    "#### 随机逻辑回归中各个列的得分  并且绘图"
   ]
  },
  {
   "cell_type": "code",
   "execution_count": 7,
   "metadata": {},
   "outputs": [
    {
     "data": {
      "text/plain": [
       "array([0.64 , 0.   , 0.08 , 0.   , 0.175, 0.755])"
      ]
     },
     "execution_count": 7,
     "metadata": {},
     "output_type": "execute_result"
    }
   ],
   "source": [
    "rlr.scores_"
   ]
  },
  {
   "cell_type": "code",
   "execution_count": 8,
   "metadata": {},
   "outputs": [
    {
     "data": {
      "text/plain": [
       "Text(0,0.5,'得分')"
      ]
     },
     "execution_count": 8,
     "metadata": {},
     "output_type": "execute_result"
    },
    {
     "data": {
      "image/png": "[encoded data removed]",
      "text/plain": [
       "<Figure size 432x288 with 1 Axes>"
      ]
     },
     "metadata": {},
     "output_type": "display_data"
    }
   ],
   "source": [
    "coef_df = DataFrame(rlr.scores_.T, index=[1,2,3,4,5,6])\n",
    "coef_df.plot(linestyle='--', marker='o',legend=False,title='各属性列得分')\n",
    "plt.xlabel('x1到x6各属性列')\n",
    "plt.ylabel('得分')"
   ]
  },
  {
   "cell_type": "markdown",
   "metadata": {},
   "source": [
    "## 算出拟合直线的系数和截距"
   ]
  },
  {
   "cell_type": "code",
   "execution_count": 9,
   "metadata": {},
   "outputs": [
    {
     "data": {
      "text/plain": [
       "array([[ 0.2165999 , -0.00469497,  0.07356338,  0.01788357,  0.02752559,\n",
       "         0.23685714]])"
      ]
     },
     "execution_count": 9,
     "metadata": {},
     "output_type": "execute_result"
    }
   ],
   "source": [
    "lr = LR()\n",
    "lr.fit(X_standard, y)\n",
    "lr.coef_"
   ]
  },
  {
   "cell_type": "code",
   "execution_count": 10,
   "metadata": {},
   "outputs": [
    {
     "data": {
      "text/plain": [
       "array([[ 0.2165999 , -0.00469497,  0.07356338,  0.01788357,  0.02752559,\n",
       "         0.23685714]])"
      ]
     },
     "execution_count": 10,
     "metadata": {},
     "output_type": "execute_result"
    }
   ],
   "source": [
    "lr.coef_"
   ]
  },
  {
   "cell_type": "code",
   "execution_count": 11,
   "metadata": {},
   "outputs": [
    {
     "data": {
      "text/plain": [
       "array([1.30104433])"
      ]
     },
     "execution_count": 11,
     "metadata": {},
     "output_type": "execute_result"
    }
   ],
   "source": [
    "lr.intercept_"
   ]
  },
  {
   "cell_type": "markdown",
   "metadata": {},
   "source": [
    "## 绘图"
   ]
  },
  {
   "cell_type": "markdown",
   "metadata": {},
   "source": [
    "#### 系数的可视化"
   ]
  },
  {
   "cell_type": "code",
   "execution_count": 12,
   "metadata": {},
   "outputs": [
    {
     "data": {
      "text/plain": [
       "Text(0,0.5,'系数')"
      ]
     },
     "execution_count": 12,
     "metadata": {},
     "output_type": "execute_result"
    },
    {
     "data": {
      "image/png": "[encoded data removed]",
      "text/plain": [
       "<Figure size 432x288 with 1 Axes>"
      ]
     },
     "metadata": {},
     "output_type": "display_data"
    }
   ],
   "source": [
    "coef_df = DataFrame(lr.coef_.T, index=[1,2,3,4,5,6])\n",
    "coef_df.plot(linestyle='--', marker='o',legend=False,title='拟合直线的系数')\n",
    "plt.xlabel('x1到x6各属性列')\n",
    "plt.ylabel('系数')"
   ]
  },
  {
   "cell_type": "markdown",
   "metadata": {},
   "source": [
    "# 第二题分类归一化"
   ]
  },
  {
   "cell_type": "markdown",
   "metadata": {},
   "source": [
    "#### 使用pearson系数"
   ]
  },
  {
   "cell_type": "code",
   "execution_count": 13,
   "metadata": {},
   "outputs": [
    {
     "data": {
      "text/plain": [
       "[(1,       Number    y     x1     x2  x3      x4        x5  x6\n",
       "  0          1  0.0  63.91  50.34   0  0.3662  0.348837   1\n",
       "  3          4  1.0  67.90  28.41   1  0.5242  0.941395   1\n",
       "  6          7  1.0  75.15  48.05   0  0.6479  0.093023   1\n",
       "  8          9  1.0  77.89  48.48   1  0.3685  1.024419   1\n",
       "  12        13  0.0  26.59  50.12   0  0.5494  1.062326   1\n",
       "  14        15  1.0  77.89  32.39   1  0.3685  1.160000   1\n",
       "  17        18  0.0  68.40  61.81   0  0.3380  0.209302   1\n",
       "  18        19  1.0  74.54  30.82   1  0.4357  1.237674   1\n",
       "  25        26  1.0  70.65  43.46   0  0.3380  0.255814   1\n",
       "  38        39  0.0  61.26  54.98   1  0.4357  0.941395   1\n",
       "  40        41  1.0  41.35  57.39   1  0.1997  1.237674   1\n",
       "  41        42  1.0  75.15  38.88   0  0.2817  0.093023   1\n",
       "  43        44  1.0  73.34  39.29   1  0.3941  1.634651   1\n",
       "  44        45  1.0  70.65  50.34   0  0.3380  0.069767   1\n",
       "  47        48  1.0  66.12  59.48   1  0.2578  1.191628   1\n",
       "  48        49  0.0  50.20  57.39   1  0.3472  0.867209   1\n",
       "  50        51  1.0  54.62  52.56   1  0.5537  1.015349   1\n",
       "  52        53  1.0  51.35  64.21   1  0.5963  0.999767   1\n",
       "  66        67  1.0  68.80  27.79   1  0.4964  0.821163   1\n",
       "  67        68  1.0  40.32  33.21   0  0.4377  0.991628   1\n",
       "  70        71  0.0  68.23  40.57   1  0.4425  1.127674   1\n",
       "  74        75  1.0  64.01  57.12   1  0.2578  1.319302   1\n",
       "  76        77  0.0  59.42  57.22   0  0.4507  0.116279   1\n",
       "  79        80  1.0  36.58  45.30   1  0.4732  1.191628   1\n",
       "  80        81  0.0  66.12  47.66   1  0.3194  1.191628   1\n",
       "  82        83  1.0  70.34  61.84   1  0.5040  1.063721   1\n",
       "  83        84  1.0  52.41  45.31   1  0.3767  1.015349   1\n",
       "  86        87  0.0  68.80  73.77   1  0.3685  1.295581   1\n",
       "  87        88  1.0  57.17  36.58   0  0.5915  0.069767   1\n",
       "  95        96  1.0  70.07  45.29   0  0.5494  1.345116   1\n",
       "  ...      ...  ...    ...    ...  ..     ...       ...  ..\n",
       "  6270    6271  1.0  72.32  38.07   1  0.3472  1.015349   1\n",
       "  6271    6272  1.0  65.69  57.39   1  0.4947  1.015349   1\n",
       "  6272    6273  1.0  61.90  28.75   1  0.5348  0.936047   1\n",
       "  6274    6275  1.0  72.32  59.81   1  0.4652  0.719070   1\n",
       "  6275    6276  0.0  43.56  47.73   1  0.5537  0.867209   1\n",
       "  6278    6279  1.0  76.24  34.27   0  0.3555  1.483023   1\n",
       "  6279    6280  1.0  72.90  41.17   0  0.3380  0.093023   1\n",
       "  6281    6282  1.0  76.93  54.95   0  0.2701  1.274419   1\n",
       "  6282    6283  1.0  64.01  31.11   1  0.5040  0.936047   1\n",
       "  6283    6284  1.0  75.15  38.88   0  0.1690  0.209302   1\n",
       "  6286    6287  1.0  56.84  59.81   1  0.5537  0.941395   1\n",
       "  6289    6290  1.0  51.76  42.87   0  0.4936  0.709070   1\n",
       "  6296    6297  0.0  68.23  57.12   1  0.4425  1.127674   1\n",
       "  6298    6299  0.0  72.32  35.65   1  0.4652  1.163488   1\n",
       "  6299    6300  0.0  70.34  52.39   1  0.1040  1.383256   1\n",
       "  6301    6302  1.0  53.46  57.12   1  0.4732  1.063721   1\n",
       "  6302    6303  0.0  52.67  66.40   0  0.5634  0.069767   1\n",
       "  6303    6304  0.0  72.32  35.65   1  0.3767  1.015349   1\n",
       "  6304    6305  1.0  56.84  45.31   1  0.4652  1.015349   1\n",
       "  6305    6306  1.0   0.00  59.48   1  0.4732  1.319302   1\n",
       "  6308    6309  0.0  59.42  36.58   0  0.2817  0.279070   1\n",
       "  6309    6310  1.0  70.11  64.64   1  0.2292  1.089535   1\n",
       "  6310    6311  0.0  70.34  50.02   1  0.3502  1.319302   1\n",
       "  6313    6314  0.0  48.18  50.34   0  0.5915  0.139535   1\n",
       "  6314    6315  1.0  71.07  27.79   1  0.4197  1.092326   1\n",
       "  6318    6319  1.0  70.65  43.46   0  0.4507  0.232558   1\n",
       "  6320    6321  1.0  66.52  41.59   1  0.4453  0.956744   1\n",
       "  6323    6324  1.0  67.90  38.07   1  0.4947  0.941395   1\n",
       "  6326    6327  1.0  59.05  54.98   1  0.4062  0.793256   1\n",
       "  6327    6328  1.0  74.65  40.46   0  0.3818  1.274419   1\n",
       "  \n",
       "  [2868 rows x 8 columns]),\n",
       " (2,       Number    y     x1     x2  x3      x4        x5  x6\n",
       "  15        16  1.0  31.75  55.13   1  0.6075  1.103953   2\n",
       "  16        17  1.0  56.81  40.81   1  0.5775  1.103953   2\n",
       "  19        20  1.0  38.41  32.54   1  0.5324  1.049302   2\n",
       "  20        21  1.0  81.16  34.79   0  0.4531  1.414884   2\n",
       "  21        22  1.0  67.78  50.12   0  0.3260  1.415814   2\n",
       "  22        23  1.0  69.33  43.20   1  0.5174  0.945349   2\n",
       "  23        24  1.0  60.06  45.34   0  0.5093  1.039767   2\n",
       "  26        27  1.0  54.72  33.65   1  0.3372  0.945349   2\n",
       "  29        30  1.0  65.16  45.58   1  0.4874  1.024651   2\n",
       "  30        31  1.0  68.23  64.21   1  0.5348  1.063721   2\n",
       "  33        34  1.0  42.61  47.71   0  0.2980  1.133023   2\n",
       "  35        36  1.0  74.56  52.39   1  0.4425  1.063721   2\n",
       "  42        43  1.0  38.97  51.67   0  0.5654  1.114884   2\n",
       "  45        46  1.0  51.76  59.78   0  0.5774  0.920930   2\n",
       "  49        50  1.0  49.47  59.78   0  0.3260  0.991628   2\n",
       "  51        52  0.0  55.57  38.20   1  0.6271  1.063721   2\n",
       "  54        55  1.0  60.06  58.00   0  0.4250  1.790000   2\n",
       "  61        62  0.0  42.91  52.39   1  0.4732  1.574884   2\n",
       "  62        63  0.0  77.68  74.22   1  0.2171  1.659767   2\n",
       "  65        66  1.0  71.42  40.81   1  0.2471  1.262791   2\n",
       "  73        74  1.0  51.35  57.12   1  0.3502  1.063721   2\n",
       "  78        79  1.0  55.57  40.57   1  0.6578  0.872093   2\n",
       "  88        89  1.0  49.24  33.48   1  0.5655  0.872093   2\n",
       "  89        90  1.0  56.34  45.29   0  0.5774  0.920930   2\n",
       "  94        95  0.0  56.34  54.95   0  0.4098  1.062326   2\n",
       "  96        97  1.0  56.81  59.90   1  0.3072  1.024651   2\n",
       "  102      103  1.0  53.73  43.23   0  0.2565  1.414884   2\n",
       "  103      104  0.0  48.46  62.29   1  0.5775  1.024651   2\n",
       "  110      111  1.0  65.49  47.71   0  0.4656  0.850465   2\n",
       "  113      114  1.0  65.16  33.65   1  0.5775  0.945349   2\n",
       "  ...      ...  ...    ...    ...  ..     ...       ...  ..\n",
       "  6217    6218  0.0  62.17  53.78   0  0.4250  0.814651   2\n",
       "  6220    6221  1.0  61.90  66.57   1  0.3502  1.063721   2\n",
       "  6223    6224  1.0  52.63  55.13   1  0.5174  1.024651   2\n",
       "  6226    6227  1.0  76.94  36.90   0  0.5374  0.964651   2\n",
       "  6232    6233  1.0  47.41  34.79   0  0.3407  0.814651   2\n",
       "  6234    6235  1.0  67.24  36.04   1  0.3372  1.262791   2\n",
       "  6240    6241  1.0  42.19  45.58   1  0.3673  1.500930   2\n",
       "  6244    6245  1.0  75.59  38.42   1  0.6676  0.866047   2\n",
       "  6247    6248  1.0  40.10  43.20   1  0.4574  0.866047   2\n",
       "  6250    6251  1.0  68.50  36.90   0  0.5374  0.889767   2\n",
       "  6254    6255  1.0  43.19  47.45   0  0.4250  1.039767   2\n",
       "  6257    6258  1.0  65.16  36.04   1  0.3072  1.183488   2\n",
       "  6261    6262  0.0  42.91  38.20   1  0.5655  1.063721   2\n",
       "  6263    6264  1.0  63.07  36.04   1  0.6075  0.786512   2\n",
       "  6266    6267  1.0  61.38  42.39   1  0.5324  1.049302   2\n",
       "  6268    6269  1.0  45.02  45.30   1  0.4732  0.936047   2\n",
       "  6269    6270  1.0  68.23  45.30   1  0.3194  1.319302   2\n",
       "  6285    6286  0.0  72.45  40.57   1  0.3194  1.319302   2\n",
       "  6293    6294  1.0  65.16  55.13   1  0.3973  1.024651   2\n",
       "  6294    6295  0.0  77.68  62.29   1  0.3072  1.183488   2\n",
       "  6295    6296  0.0  71.42  38.42   1  0.2772  1.659767   2\n",
       "  6306    6307  1.0  58.35  31.51   0  0.5566  1.535581   2\n",
       "  6307    6308  1.0  50.54  69.45   1  0.6075  0.945349   2\n",
       "  6312    6313  1.0  74.56  45.30   1  0.4732  1.319302   2\n",
       "  6315    6316  1.0  38.69  50.02   1  0.5655  0.936047   2\n",
       "  6319    6320  1.0  60.06  41.12   0  0.5093  1.189767   2\n",
       "  6321    6322  1.0  55.84  60.11   0  0.5654  0.964651   2\n",
       "  6322    6323  0.0  63.20  52.54   0  0.6612  0.779767   2\n",
       "  6324    6325  1.0  63.07  52.74   1  0.4574  0.945349   2\n",
       "  6325    6326  1.0  52.63  43.20   1  0.4574  1.024651   2\n",
       "  \n",
       "  [1822 rows x 8 columns]),\n",
       " (3,       Number    y     x1     x2  x3      x4        x5  x6\n",
       "  1          2  1.0  61.17  37.70   1  0.5724  1.027907   3\n",
       "  2          3  0.0  41.73  35.35   1  0.4845  0.953256   3\n",
       "  5          6  1.0  66.81  51.02   0  0.3605  1.463953   3\n",
       "  7          8  1.0  63.85  28.18   0  0.3355  1.269535   3\n",
       "  9         10  1.0  59.29  64.56   1  0.4789  1.256977   3\n",
       "  13        14  1.0  79.62  55.89   0  0.5027  1.356977   3\n",
       "  27        28  1.0  72.86  44.34   0  0.5361  1.007209   3\n",
       "  28        29  0.0  52.01  41.27   0  0.5846  0.891628   3\n",
       "  31        32  1.0  57.20  47.32   1  0.5324  1.118605   3\n",
       "  32        33  1.0  45.67  72.98   0  0.5846  0.963256   3\n",
       "  34        35  1.0  78.08  54.70   1  0.5324  0.910930   3\n",
       "  36        37  0.0  57.20  44.85   1  0.6126  0.910930   3\n",
       "  37        38  1.0  57.20  44.85   1  0.5858  0.910930   3\n",
       "  39        40  1.0  48.09  46.65   0  0.3689  1.094651   3\n",
       "  46        47  1.0  46.76  64.56   1  0.6393  0.772326   3\n",
       "  53        54  1.0  30.06  62.09   1  0.6393  0.910930   3\n",
       "  57        58  1.0  57.20  47.32   1  0.6126  0.910930   3\n",
       "  58        59  0.0  43.89  51.78   1  0.5431  1.176977   3\n",
       "  59        60  1.0  54.84  44.34   0  0.4358  0.919767   3\n",
       "  60        61  1.0  49.89  63.22   0  0.4165  0.676977   3\n",
       "  63        64  1.0  66.10  37.41   0  0.5696  1.007209   3\n",
       "  68        69  1.0  54.84  42.03   0  0.4692  1.094651   3\n",
       "  69        70  1.0  54.72  55.13   1  0.6676  1.103953   3\n",
       "  71        72  1.0  54.84  67.44   0  0.2351  1.356977   3\n",
       "  72        73  1.0  75.99  44.85   1  0.5858  1.395349   3\n",
       "  75        76  1.0  55.11  74.41   1  0.5324  1.049302   3\n",
       "  77        78  1.0  50.94  39.93   1  0.6660  0.910930   3\n",
       "  81        82  0.0  50.94  54.70   1  0.5858  0.980000   3\n",
       "  84        85  0.0  63.47  47.32   1  0.6393  0.910930   3\n",
       "  85        86  0.0  63.33  56.48   1  0.5724  1.102326   3\n",
       "  ...      ...  ...    ...    ...  ..     ...       ...  ..\n",
       "  6115    6116  1.0  63.47  49.78   1  0.5591  0.980000   3\n",
       "  6125    6126  0.0  26.61  49.44   1  0.5431  1.027907   3\n",
       "  6134    6135  1.0  40.50  69.48   1  0.5858  1.049302   3\n",
       "  6142    6143  1.0  59.29  42.39   1  0.6660  1.256977   3\n",
       "  6146    6147  1.0  55.11  47.32   1  0.5591  0.841628   3\n",
       "  6149    6150  0.0  43.55  58.34   0  0.5846  0.820000   3\n",
       "  6167    6168  0.0  61.38  42.39   1  0.5056  1.187674   3\n",
       "  6204    6205  1.0  71.82  47.32   1  0.5056  0.841628   3\n",
       "  6208    6209  1.0  55.11  49.78   1  0.5858  0.910930   3\n",
       "  6214    6215  1.0  57.20  57.17   1  0.5858  1.049302   3\n",
       "  6215    6216  1.0  50.94  49.78   1  0.4521  1.395349   3\n",
       "  6216    6217  1.0  50.94  54.70   1  0.6126  1.187674   3\n",
       "  6218    6219  1.0  49.89  36.39   0  0.5846  1.249302   3\n",
       "  6224    6225  1.0  64.69  48.59   0  0.5566  1.034651   3\n",
       "  6229    6230  1.0  56.24  46.15   0  0.4165  0.748372   3\n",
       "  6233    6234  1.0  64.69  60.78   0  0.5286  1.177907   3\n",
       "  6235    6236  1.0  37.41  33.00   1  0.5138  1.400465   3\n",
       "  6265    6266  0.0  67.64  52.24   1  0.5056  1.395349   3\n",
       "  6273    6274  1.0  59.29  39.93   1  0.6393  0.980000   3\n",
       "  6276    6277  1.0  81.87  62.82   0  0.4358  1.269535   3\n",
       "  6277    6278  1.0  71.82  32.54   1  0.3987  1.395349   3\n",
       "  6280    6281  1.0  79.62  58.20   0  0.4692  1.182093   3\n",
       "  6284    6285  1.0  46.76  67.02   1  0.6126  0.980000   3\n",
       "  6290    6291  0.0  74.13  49.44   1  0.5724  0.804186   3\n",
       "  6291    6292  1.0  61.38  49.78   1  0.4789  1.256977   3\n",
       "  6292    6293  1.0  30.06  62.09   1  0.6393  1.049302   3\n",
       "  6300    6301  0.0  50.94  57.17   1  0.5324  0.910930   3\n",
       "  6316    6317  0.0  41.44  55.90   0  0.6686  0.891628   3\n",
       "  6317    6318  1.0  53.03  35.00   1  0.5858  0.980000   3\n",
       "  6328    6329  1.0  44.68  52.24   1  0.6660  0.772326   3\n",
       "  \n",
       "  [1335 rows x 8 columns]),\n",
       " (4,       Number    y     x1     x2  x3      x4        x5  x6\n",
       "  4          5  0.0  52.53  42.39   1  0.5431  0.878837   4\n",
       "  10        11  0.0  77.36  37.41   0  0.3689  1.444419   4\n",
       "  11        12  1.0  65.49  54.13   1  0.3085  1.475116   4\n",
       "  24        25  1.0  41.33  51.27   0  0.5696  1.269535   4\n",
       "  55        56  1.0  46.05  47.09   1  0.5138  1.176977   4\n",
       "  56        57  1.0  52.53  54.13   1  0.5431  1.475116   4\n",
       "  64        65  1.0  59.35  35.10   0  0.5696  0.919767   4\n",
       "  107      108  0.0  43.89  40.05   1  0.5724  0.878837   4\n",
       "  108      109  1.0  52.53  35.35   1  0.5431  1.027907   4\n",
       "  117      118  0.0  39.08  72.06   0  0.3689  1.007209   4\n",
       "  136      137  0.0  39.57  63.52   1  0.6018  0.953256   4\n",
       "  171      172  1.0  50.37  54.13   1  0.5138  1.251395   4\n",
       "  174      175  1.0  41.73  40.05   1  0.5724  1.102326   4\n",
       "  177      178  1.0  45.83  51.27   0  0.5696  0.832326   4\n",
       "  223      224  1.0  63.33  51.78   1  0.5724  0.953256   4\n",
       "  226      227  1.0  41.33  67.44   0  0.6699  1.269535   4\n",
       "  228      229  1.0  66.10  55.89   0  0.3020  1.356977   4\n",
       "  250      251  1.0  68.36  37.41   0  0.6365  0.832326   4\n",
       "  254      255  1.0  68.36  35.10   0  0.5361  0.744884   4\n",
       "  270      271  1.0  41.73  40.05   1  0.5138  0.878837   4\n",
       "  277      278  0.0  59.01  40.05   1  0.5431  0.953256   4\n",
       "  278      279  0.0  50.34  35.10   0  0.5696  1.094651   4\n",
       "  279      280  1.0  48.09  65.13   0  0.3689  1.007209   4\n",
       "  302      303  1.0  48.09  69.75   0  0.6365  0.744884   4\n",
       "  304      305  1.0  39.08  65.13   0  0.5696  1.007209   4\n",
       "  321      322  1.0  54.69  35.35   1  0.5431  0.878837   4\n",
       "  394      395  1.0  48.21  49.44   1  0.5724  0.878837   4\n",
       "  395      396  1.0  59.01  40.05   1  0.5138  1.251395   4\n",
       "  399      400  1.0  35.25  54.13   1  0.6311  0.878837   4\n",
       "  422      423  1.0  35.25  51.78   1  0.5724  0.878837   4\n",
       "  ...      ...  ...    ...    ...  ..     ...       ...  ..\n",
       "  5086    5087  1.0  79.62  35.10   0  0.6030  1.094651   4\n",
       "  5098    5099  1.0  63.85  30.48   0  0.5027  1.269535   4\n",
       "  5162    5163  1.0  54.84  35.10   0  0.6365  0.832326   4\n",
       "  5192    5193  1.0  50.37  47.09   1  0.6018  1.102326   4\n",
       "  5235    5236  0.0  63.85  65.13   0  0.6030  0.919767   4\n",
       "  5298    5299  1.0  72.86  30.48   0  0.5696  1.007209   4\n",
       "  5327    5328  1.0  67.65  65.87   1  0.3965  0.729767   4\n",
       "  5361    5362  1.0  77.36  37.41   0  0.4692  1.182093   4\n",
       "  5369    5370  1.0  74.13  35.35   1  0.6018  0.878837   4\n",
       "  5382    5383  1.0  72.86  48.96   0  0.3689  1.007209   4\n",
       "  5397    5398  1.0  65.49  56.48   1  0.4258  1.176977   4\n",
       "  5433    5434  1.0  72.86  39.72   0  0.4692  1.007209   4\n",
       "  5460    5461  1.0  72.86  32.79   0  0.4692  0.919767   4\n",
       "  5461    5462  0.0  68.36  42.03   0  0.5027  1.007209   4\n",
       "  5487    5488  1.0  69.81  35.35   1  0.5431  0.953256   4\n",
       "  5537    5538  1.0  41.73  58.83   1  0.4551  0.953256   4\n",
       "  5549    5550  0.0  67.65  51.78   1  0.4845  0.878837   4\n",
       "  5677    5678  1.0  43.89  33.00   1  0.5138  0.953256   4\n",
       "  5776    5777  1.0  63.33  56.48   1  0.4551  1.102326   4\n",
       "  5789    5790  0.0  71.97  49.44   1  0.4845  1.400465   4\n",
       "  5991    5992  1.0  63.33  44.74   1  0.6018  1.027907   4\n",
       "  6000    6001  1.0  41.33  51.27   0  0.5027  1.094651   4\n",
       "  6027    6028  1.0  50.34  60.51   0  0.5696  0.919767   4\n",
       "  6052    6053  1.0  59.01  37.70   1  0.5431  1.102326   4\n",
       "  6236    6237  1.0  75.11  37.41   0  0.6699  0.832326   4\n",
       "  6242    6243  1.0  46.05  33.00   1  0.6311  0.878837   4\n",
       "  6287    6288  1.0  69.81  33.00   1  0.1619  1.698605   4\n",
       "  6288    6289  1.0  67.65  44.74   1  0.3378  1.326047   4\n",
       "  6297    6298  1.0  71.97  63.52   1  0.5138  0.953256   4\n",
       "  6311    6312  0.0  67.65  33.00   1  0.6018  0.878837   4\n",
       "  \n",
       "  [304 rows x 8 columns])]"
      ]
     },
     "execution_count": 13,
     "metadata": {},
     "output_type": "execute_result"
    }
   ],
   "source": [
    "g = df.groupby(df['x6'])\n",
    "list(g)"
   ]
  },
  {
   "cell_type": "code",
   "execution_count": 14,
   "metadata": {},
   "outputs": [
    {
     "name": "stdout",
     "output_type": "stream",
     "text": [
      "          x1        x2        x3        x4        x5\n",
      "x1  1.000000 -0.200168 -0.007270 -0.297410  0.063384\n",
      "x2 -0.200168  1.000000  0.083215 -0.060647  0.025960\n",
      "x3 -0.007270  0.083215  1.000000 -0.063728  0.573023\n",
      "x4 -0.297410 -0.060647 -0.063728  1.000000 -0.230550\n",
      "x5  0.063384  0.025960  0.573023 -0.230550  1.000000\n"
     ]
    },
    {
     "name": "stderr",
     "output_type": "stream",
     "text": [
      "D:\\ruanjian\\Anaconda3\\lib\\site-packages\\sklearn\\utils\\deprecation.py:58: DeprecationWarning: Class RandomizedLogisticRegression is deprecated; The class RandomizedLogisticRegression is deprecated in 0.19 and will be removed in 0.21.\n",
      "  warnings.warn(msg, category=DeprecationWarning)\n"
     ]
    },
    {
     "name": "stdout",
     "output_type": "stream",
     "text": [
      "[1.    0.    0.015 0.025 0.   ]\n",
      "[ True False False False False]\n",
      "          x1        x2        x3        x4        x5\n",
      "x1  1.000000 -0.143111 -0.067962 -0.293818  0.216074\n",
      "x2 -0.143111  1.000000  0.047956 -0.001082 -0.047577\n",
      "x3 -0.067962  0.047956  1.000000  0.106185  0.007892\n",
      "x4 -0.293818 -0.001082  0.106185  1.000000 -0.417823\n",
      "x5  0.216074 -0.047577  0.007892 -0.417823  1.000000\n"
     ]
    },
    {
     "name": "stderr",
     "output_type": "stream",
     "text": [
      "D:\\ruanjian\\Anaconda3\\lib\\site-packages\\sklearn\\utils\\deprecation.py:58: DeprecationWarning: Class RandomizedLogisticRegression is deprecated; The class RandomizedLogisticRegression is deprecated in 0.19 and will be removed in 0.21.\n",
      "  warnings.warn(msg, category=DeprecationWarning)\n"
     ]
    },
    {
     "name": "stdout",
     "output_type": "stream",
     "text": [
      "[0.01 0.   0.   0.   0.  ]\n",
      "[False False False False False]\n",
      "          x1        x2        x3        x4        x5\n",
      "x1  1.000000 -0.150762 -0.006625 -0.285676  0.103130\n",
      "x2 -0.150762  1.000000 -0.028559 -0.029349 -0.041039\n",
      "x3 -0.006625 -0.028559  1.000000  0.175648  0.047032\n",
      "x4 -0.285676 -0.029349  0.175648  1.000000 -0.468116\n",
      "x5  0.103130 -0.041039  0.047032 -0.468116  1.000000\n"
     ]
    },
    {
     "name": "stderr",
     "output_type": "stream",
     "text": [
      "D:\\ruanjian\\Anaconda3\\lib\\site-packages\\sklearn\\utils\\deprecation.py:58: DeprecationWarning: Class RandomizedLogisticRegression is deprecated; The class RandomizedLogisticRegression is deprecated in 0.19 and will be removed in 0.21.\n",
      "  warnings.warn(msg, category=DeprecationWarning)\n"
     ]
    },
    {
     "name": "stdout",
     "output_type": "stream",
     "text": [
      "[0. 0. 0. 0. 0.]\n",
      "[False False False False False]\n",
      "          x1        x2        x3        x4        x5\n",
      "x1  1.000000 -0.159447 -0.136715 -0.345955  0.151855\n",
      "x2 -0.159447  1.000000  0.093284  0.035458 -0.096392\n",
      "x3 -0.136715  0.093284  1.000000 -0.054302 -0.063971\n",
      "x4 -0.345955  0.035458 -0.054302  1.000000 -0.577849\n",
      "x5  0.151855 -0.096392 -0.063971 -0.577849  1.000000\n"
     ]
    },
    {
     "name": "stderr",
     "output_type": "stream",
     "text": [
      "D:\\ruanjian\\Anaconda3\\lib\\site-packages\\sklearn\\utils\\deprecation.py:58: DeprecationWarning: Class RandomizedLogisticRegression is deprecated; The class RandomizedLogisticRegression is deprecated in 0.19 and will be removed in 0.21.\n",
      "  warnings.warn(msg, category=DeprecationWarning)\n"
     ]
    },
    {
     "name": "stdout",
     "output_type": "stream",
     "text": [
      "[0. 0. 0. 0. 0.]\n",
      "[False False False False False]\n"
     ]
    }
   ],
   "source": [
    "for i, new_df in list(g):\n",
    "    X_new = new_df.loc[:,'x1':'x5']\n",
    "    y_new = new_df.loc[:,'y']\n",
    "    standardScaler = StandardScaler()\n",
    "    standardScaler.fit(X_new)\n",
    "    X_new_standard = standardScaler.transform(X_new)\n",
    "    # 使用pearson系数\n",
    "    print(DataFrame(X_new_standard,columns=['x1','x2','x3','x4','x5']).corr(method='pearson'))\n",
    "    rlr = RLR()\n",
    "    rlr.fit(X_new_standard,y_new)\n",
    "    print(rlr.scores_)\n",
    "    print(rlr.get_support())"
   ]
  },
  {
   "cell_type": "markdown",
   "metadata": {},
   "source": [
    "## 随机分离预测保留x1,x6时的正确率"
   ]
  },
  {
   "cell_type": "code",
   "execution_count": 15,
   "metadata": {},
   "outputs": [],
   "source": [
    "# 保留x1和x6\n",
    "X = df[['x1','x6']]\n",
    "y = df['y']"
   ]
  },
  {
   "cell_type": "code",
   "execution_count": 16,
   "metadata": {},
   "outputs": [],
   "source": [
    "from sklearn.preprocessing import StandardScaler\n",
    "\n",
    "standardScaler = StandardScaler()\n",
    "standardScaler.fit(X)\n",
    "X_standard = standardScaler.transform(X)"
   ]
  },
  {
   "cell_type": "code",
   "execution_count": 17,
   "metadata": {},
   "outputs": [],
   "source": [
    "from sklearn.model_selection import train_test_split\n",
    "X_train, X_test, y_train, y_test = train_test_split(X, y)"
   ]
  },
  {
   "cell_type": "code",
   "execution_count": 18,
   "metadata": {},
   "outputs": [
    {
     "data": {
      "text/plain": [
       "LogisticRegression(C=1.0, class_weight=None, dual=False, fit_intercept=True,\n",
       "          intercept_scaling=1, max_iter=100, multi_class='ovr', n_jobs=1,\n",
       "          penalty='l2', random_state=None, solver='liblinear', tol=0.0001,\n",
       "          verbose=0, warm_start=False)"
      ]
     },
     "execution_count": 18,
     "metadata": {},
     "output_type": "execute_result"
    }
   ],
   "source": [
    "lr = LR()\n",
    "lr.fit(X_train, y_train)"
   ]
  },
  {
   "cell_type": "markdown",
   "metadata": {},
   "source": [
    "#### 随机正确率  在78%左右"
   ]
  },
  {
   "cell_type": "code",
   "execution_count": 19,
   "metadata": {},
   "outputs": [
    {
     "data": {
      "text/plain": [
       "0.7732154137713203"
      ]
     },
     "execution_count": 19,
     "metadata": {},
     "output_type": "execute_result"
    }
   ],
   "source": [
    "lr.score(X_test, y_test)"
   ]
  },
  {
   "cell_type": "code",
   "execution_count": 20,
   "metadata": {},
   "outputs": [
    {
     "name": "stdout",
     "output_type": "stream",
     "text": [
      "预测y为0:10\n",
      "预测y为1:1573\n"
     ]
    }
   ],
   "source": [
    "print('预测y为0:' + str(sum(lr.predict(X_test)==0)))\n",
    "print('预测y为1:' + str(sum(lr.predict(X_test)==1)))"
   ]
  },
  {
   "cell_type": "code",
   "execution_count": 21,
   "metadata": {},
   "outputs": [
    {
     "data": {
      "text/plain": [
       "1573"
      ]
     },
     "execution_count": 21,
     "metadata": {},
     "output_type": "execute_result"
    }
   ],
   "source": [
    "sum(lr.predict(X_test)==1)"
   ]
  },
  {
   "cell_type": "markdown",
   "metadata": {},
   "source": [
    "# 预测附件2"
   ]
  },
  {
   "cell_type": "markdown",
   "metadata": {},
   "source": [
    "## 训练模型"
   ]
  },
  {
   "cell_type": "code",
   "execution_count": 22,
   "metadata": {},
   "outputs": [],
   "source": [
    "# 对附件1留下x1和x6并且归一化\n",
    "X = df[['x1','x6']]\n",
    "y = df['y']\n",
    "\n",
    "standardScaler = StandardScaler()\n",
    "standardScaler.fit(X)\n",
    "X_standard = standardScaler.transform(X)"
   ]
  },
  {
   "cell_type": "code",
   "execution_count": 23,
   "metadata": {},
   "outputs": [
    {
     "data": {
      "text/plain": [
       "LogisticRegression(C=1.0, class_weight=None, dual=False, fit_intercept=True,\n",
       "          intercept_scaling=1, max_iter=100, multi_class='ovr', n_jobs=1,\n",
       "          penalty='l2', random_state=None, solver='liblinear', tol=0.0001,\n",
       "          verbose=0, warm_start=False)"
      ]
     },
     "execution_count": 23,
     "metadata": {},
     "output_type": "execute_result"
    }
   ],
   "source": [
    "lr = LR()\n",
    "lr.fit(X_standard, y)"
   ]
  },
  {
   "cell_type": "markdown",
   "metadata": {},
   "source": [
    "#### 绘图附件一归一化后的分布图"
   ]
  },
  {
   "cell_type": "code",
   "execution_count": 24,
   "metadata": {},
   "outputs": [
    {
     "name": "stdout",
     "output_type": "stream",
     "text": [
      "1.8563711790854531\n",
      "-4.722094097241862\n",
      "2.3488463335677925\n",
      "-0.934489110402735\n"
     ]
    }
   ],
   "source": [
    "print(X_standard[:,0].max())\n",
    "print(X_standard[:,0].min())\n",
    "print(X_standard[:,1].max())\n",
    "print(X_standard[:,1].min())"
   ]
  },
  {
   "cell_type": "code",
   "execution_count": 25,
   "metadata": {},
   "outputs": [],
   "source": [
    "## 绘制直线\n",
    "def x2(x1):\n",
    "    return(-lr.coef_[0][0] * x1 - lr.intercept_) / lr.coef_[0][1]"
   ]
  },
  {
   "cell_type": "code",
   "execution_count": 26,
   "metadata": {},
   "outputs": [],
   "source": [
    "x_plot = np.linspace(-5,3,10000)\n",
    "y_plot = x2(x_plot)"
   ]
  },
  {
   "cell_type": "code",
   "execution_count": 27,
   "metadata": {},
   "outputs": [
    {
     "data": {
      "text/plain": [
       "Text(0.5,1,'样本')"
      ]
     },
     "execution_count": 27,
     "metadata": {},
     "output_type": "execute_result"
    },
    {
     "data": {
      "image/png": "[encoded data removed]",
      "text/plain": [
       "<Figure size 432x288 with 1 Axes>"
      ]
     },
     "metadata": {},
     "output_type": "display_data"
    }
   ],
   "source": [
    "plt.scatter(X_standard[y==0, 0], X_standard[y==0, 1], color='red', label='良好') \n",
    "plt.scatter(X_standard[y==1, 0], X_standard[y==1, 1], color='blue', label='一般') \n",
    "plt.plot(x_plot, y_plot) \n",
    "plt.xlabel('x1')\n",
    "plt.ylabel('x6')\n",
    "plt.legend() \n",
    "plt.title(\"样本\")"
   ]
  },
  {
   "cell_type": "markdown",
   "metadata": {},
   "source": [
    "## 用附件一训练的模型预测附件二预测附件2"
   ]
  },
  {
   "cell_type": "code",
   "execution_count": 28,
   "metadata": {},
   "outputs": [
    {
     "data": {
      "text/plain": [
       "array([[ 0.45367371, -0.82375447],\n",
       "       [-0.03627327, -0.82375447],\n",
       "       [-0.15304396,  0.82375447],\n",
       "       [ 0.63413751, -0.82375447],\n",
       "       [ 0.25687834,  0.82375447],\n",
       "       [ 0.67496642,  1.64750894],\n",
       "       [ 0.43325925,  1.64750894],\n",
       "       [-1.3403488 , -0.82375447],\n",
       "       [-2.08098531,  0.        ],\n",
       "       [ 1.04569297, -0.82375447],\n",
       "       [ 0.77050608, -0.82375447],\n",
       "       [ 0.99588169, -0.82375447],\n",
       "       [ 0.25687834,  1.64750894],\n",
       "       [-1.58695544, -0.82375447],\n",
       "       [-0.40128376, -0.82375447],\n",
       "       [-0.87571575,  0.        ],\n",
       "       [-1.50693077,  1.64750894],\n",
       "       [ 1.08162241,  0.        ],\n",
       "       [ 1.37804033, -0.82375447]])"
      ]
     },
     "execution_count": 28,
     "metadata": {},
     "output_type": "execute_result"
    }
   ],
   "source": [
    "# 读数据并保留x1,x6并且归一化处理\n",
    "df = pd.read_excel('D:/2018 广东金融学院数学建模第一次模拟(1)/2018 广东金融学院数学建模第一次模拟/附件2.xlsx')\n",
    "\n",
    "X = df[['x1','x6']]\n",
    "\n",
    "\n",
    "\n",
    "# 归一化\n",
    "from sklearn.preprocessing import StandardScaler\n",
    "\n",
    "standardScaler = StandardScaler()\n",
    "standardScaler.fit(X)\n",
    "X_standard = standardScaler.transform(X)\n",
    "X_standard"
   ]
  },
  {
   "cell_type": "markdown",
   "metadata": {},
   "source": [
    "#### 预测结果"
   ]
  },
  {
   "cell_type": "code",
   "execution_count": 29,
   "metadata": {},
   "outputs": [
    {
     "name": "stdout",
     "output_type": "stream",
     "text": [
      "[1. 1. 1. 1. 1. 1. 1. 1. 1. 1. 1. 1. 1. 1. 1. 1. 1. 1. 1.]\n"
     ]
    }
   ],
   "source": [
    "y_pre = lr.predict(X_standard)\n",
    "print(y_pre)"
   ]
  },
  {
   "cell_type": "markdown",
   "metadata": {},
   "source": [
    "#### 绘图"
   ]
  },
  {
   "cell_type": "code",
   "execution_count": 30,
   "metadata": {},
   "outputs": [],
   "source": [
    "x_plot = np.linspace(-2.5,2,100)\n",
    "y_plot = x2(x_plot)"
   ]
  },
  {
   "cell_type": "code",
   "execution_count": 31,
   "metadata": {},
   "outputs": [
    {
     "data": {
      "image/png": "[encoded data removed]",
      "text/plain": [
       "<Figure size 432x288 with 1 Axes>"
      ]
     },
     "metadata": {},
     "output_type": "display_data"
    }
   ],
   "source": [
    "plt.scatter(X_standard[y_pre==0, 0], X_standard[y_pre==0, 1], color='red', label='良好') \n",
    "plt.scatter(X_standard[y_pre==1, 0], X_standard[y_pre==1, 1], color='blue', label='一般') \n",
    "plt.plot(x_plot, y_plot, label='决策边界') \n",
    "plt.legend() \n",
    "plt.xlabel('x1')\n",
    "plt.ylabel('x6')\n",
    "plt.title(\"预测结果\")\n",
    "plt.show()"
   ]
  },
  {
   "cell_type": "code",
   "execution_count": null,
   "metadata": {},
   "outputs": [],
   "source": []
  }
 ],
 "metadata": {
  "kernelspec": {
   "display_name": "Python 3",
   "language": "python",
   "name": "python3"
  },
  "language_info": {
   "codemirror_mode": {
    "name": "ipython",
    "version": 3
   },
   "file_extension": ".py",
   "mimetype": "text/x-python",
   "name": "python",
   "nbconvert_exporter": "python",
   "pygments_lexer": "ipython3",
   "version": "3.6.5"
  }
 },
 "nbformat": 4,
 "nbformat_minor": 2
}
