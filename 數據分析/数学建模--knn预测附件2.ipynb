{
 "cells": [
  {
   "cell_type": "code",
   "execution_count": 1,
   "metadata": {},
   "outputs": [],
   "source": [
    "import pandas as pd\n",
    "import numpy as np\n",
    "from pandas import Series, DataFrame\n",
    "import matplotlib.pyplot as plt\n",
    "from datetime import datetime\n",
    "import seaborn as sns\n",
    "sns.set()\n",
    "plt.rcParams['font.sans-serif'] = ['SimHei'] # 显示中文标题 \n",
    "plt.rcParams['axes.unicode_minus'] = False # 正常显示正负号 "
   ]
  },
  {
   "cell_type": "code",
   "execution_count": 2,
   "metadata": {},
   "outputs": [],
   "source": [
    "df = pd.read_excel('D:/2018 广东金融学院数学建模第一次模拟(1)/2018 广东金融学院数学建模第一次模拟/附件1.xls')\n",
    "df.head()\n",
    "\n",
    "df = df.drop(6329)\n",
    "df['y'] = df['y'].astype('float')\n",
    "X = df.loc[:,['x1','x6']]\n",
    "y = df.loc[:,'y']"
   ]
  },
  {
   "cell_type": "code",
   "execution_count": 3,
   "metadata": {},
   "outputs": [
    {
     "data": {
      "text/plain": [
       "array([[ 0.2758816 , -0.93448911],\n",
       "       [ 0.06160444,  1.25440119],\n",
       "       [-1.45866856,  1.25440119],\n",
       "       ...,\n",
       "       [-0.10418665, -0.93448911],\n",
       "       [ 1.11578551, -0.93448911],\n",
       "       [-1.2279687 ,  1.25440119]])"
      ]
     },
     "execution_count": 3,
     "metadata": {},
     "output_type": "execute_result"
    }
   ],
   "source": [
    "from sklearn.preprocessing import StandardScaler\n",
    "\n",
    "standardScaler = StandardScaler()\n",
    "standardScaler.fit(X)\n",
    "X_standard = standardScaler.transform(X)\n",
    "X_standard"
   ]
  },
  {
   "cell_type": "code",
   "execution_count": 4,
   "metadata": {},
   "outputs": [],
   "source": [
    "from sklearn.model_selection import train_test_split\n",
    "X_train, X_test, y_train, y_test = train_test_split(X_standard, y)"
   ]
  },
  {
   "cell_type": "code",
   "execution_count": 5,
   "metadata": {},
   "outputs": [],
   "source": [
    "from sklearn.neighbors import KNeighborsClassifier as KNN"
   ]
  },
  {
   "cell_type": "code",
   "execution_count": 6,
   "metadata": {},
   "outputs": [],
   "source": [
    "knn = KNN()"
   ]
  },
  {
   "cell_type": "code",
   "execution_count": 7,
   "metadata": {},
   "outputs": [
    {
     "data": {
      "text/plain": [
       "KNeighborsClassifier(algorithm='auto', leaf_size=30, metric='minkowski',\n",
       "           metric_params=None, n_jobs=1, n_neighbors=5, p=2,\n",
       "           weights='uniform')"
      ]
     },
     "execution_count": 7,
     "metadata": {},
     "output_type": "execute_result"
    }
   ],
   "source": [
    "knn.fit(X_train, y_train)"
   ]
  },
  {
   "cell_type": "code",
   "execution_count": 8,
   "metadata": {},
   "outputs": [
    {
     "data": {
      "text/plain": [
       "0.7435249526216046"
      ]
     },
     "execution_count": 8,
     "metadata": {},
     "output_type": "execute_result"
    }
   ],
   "source": [
    "knn.score(X_test, y_test)"
   ]
  },
  {
   "cell_type": "code",
   "execution_count": 9,
   "metadata": {},
   "outputs": [
    {
     "name": "stdout",
     "output_type": "stream",
     "text": [
      "104\n"
     ]
    }
   ],
   "source": [
    "pre = knn.predict(X_test)\n",
    "print(sum(pre == 0))\n",
    "#y_test[pre==0]"
   ]
  },
  {
   "cell_type": "code",
   "execution_count": 10,
   "metadata": {},
   "outputs": [
    {
     "name": "stdout",
     "output_type": "stream",
     "text": [
      "1479\n"
     ]
    }
   ],
   "source": [
    "print(sum(pre == 1))\n",
    "#y_test[pre==1]"
   ]
  },
  {
   "cell_type": "code",
   "execution_count": 11,
   "metadata": {},
   "outputs": [
    {
     "data": {
      "text/plain": [
       "array([[ 0.45367371, -0.82375447],\n",
       "       [-0.03627327, -0.82375447],\n",
       "       [-0.15304396,  0.82375447],\n",
       "       [ 0.63413751, -0.82375447],\n",
       "       [ 0.25687834,  0.82375447],\n",
       "       [ 0.67496642,  1.64750894],\n",
       "       [ 0.43325925,  1.64750894],\n",
       "       [-1.3403488 , -0.82375447],\n",
       "       [-2.08098531,  0.        ],\n",
       "       [ 1.04569297, -0.82375447],\n",
       "       [ 0.77050608, -0.82375447],\n",
       "       [ 0.99588169, -0.82375447],\n",
       "       [ 0.25687834,  1.64750894],\n",
       "       [-1.58695544, -0.82375447],\n",
       "       [-0.40128376, -0.82375447],\n",
       "       [-0.87571575,  0.        ],\n",
       "       [-1.50693077,  1.64750894],\n",
       "       [ 1.08162241,  0.        ],\n",
       "       [ 1.37804033, -0.82375447]])"
      ]
     },
     "execution_count": 11,
     "metadata": {},
     "output_type": "execute_result"
    }
   ],
   "source": [
    "# 读数据并保留x1,x6并且归一化处理\n",
    "df = pd.read_excel('D:/2018 广东金融学院数学建模第一次模拟(1)/2018 广东金融学院数学建模第一次模拟/附件2.xlsx')\n",
    "\n",
    "X2 = df[['x1','x6']]\n",
    "\n",
    "# 归一化\n",
    "from sklearn.preprocessing import StandardScaler\n",
    "\n",
    "standardScaler = StandardScaler()\n",
    "standardScaler.fit(X2)\n",
    "X2_standard = standardScaler.transform(X2)\n",
    "X2_standard"
   ]
  },
  {
   "cell_type": "code",
   "execution_count": 12,
   "metadata": {},
   "outputs": [
    {
     "data": {
      "text/plain": [
       "array([1., 1., 0., 1., 1., 1., 1., 1., 1., 1., 1., 1., 1., 1., 1., 1., 1.,\n",
       "       1., 1.])"
      ]
     },
     "execution_count": 12,
     "metadata": {},
     "output_type": "execute_result"
    }
   ],
   "source": [
    "knn.predict(X2_standard)"
   ]
  },
  {
   "cell_type": "code",
   "execution_count": 13,
   "metadata": {},
   "outputs": [],
   "source": [
    "param_grid = [\n",
    "    {\n",
    "        'weights' : ['uniform'],\n",
    "        'n_neighbors':[i for i in range(1, 11)]\n",
    "    },\n",
    "    {\n",
    "        'weights':['distance'],\n",
    "        'n_neighbors' : [i for i in range(1,11)],\n",
    "        'p' : [i for i in range(1, 6)]\n",
    "    }\n",
    "]"
   ]
  },
  {
   "cell_type": "code",
   "execution_count": 14,
   "metadata": {},
   "outputs": [],
   "source": [
    "knn_clf = KNN()"
   ]
  },
  {
   "cell_type": "code",
   "execution_count": 15,
   "metadata": {},
   "outputs": [
    {
     "data": {
      "text/plain": [
       "GridSearchCV(cv=None, error_score='raise',\n",
       "       estimator=KNeighborsClassifier(algorithm='auto', leaf_size=30, metric='minkowski',\n",
       "           metric_params=None, n_jobs=1, n_neighbors=5, p=2,\n",
       "           weights='uniform'),\n",
       "       fit_params=None, iid=True, n_jobs=-1,\n",
       "       param_grid=[{'weights': ['uniform'], 'n_neighbors': [1, 2, 3, 4, 5, 6, 7, 8, 9, 10]}, {'weights': ['distance'], 'n_neighbors': [1, 2, 3, 4, 5, 6, 7, 8, 9, 10], 'p': [1, 2, 3, 4, 5]}],\n",
       "       pre_dispatch='2*n_jobs', refit=True, return_train_score='warn',\n",
       "       scoring=None, verbose=0)"
      ]
     },
     "execution_count": 15,
     "metadata": {},
     "output_type": "execute_result"
    }
   ],
   "source": [
    "from sklearn.model_selection import GridSearchCV\n",
    "grid_search = GridSearchCV(knn_clf, param_grid, n_jobs=-1)\n",
    "grid_search.fit(X_standard,y)"
   ]
  },
  {
   "cell_type": "code",
   "execution_count": 16,
   "metadata": {},
   "outputs": [
    {
     "data": {
      "text/plain": [
       "KNeighborsClassifier(algorithm='auto', leaf_size=30, metric='minkowski',\n",
       "           metric_params=None, n_jobs=1, n_neighbors=9, p=2,\n",
       "           weights='uniform')"
      ]
     },
     "execution_count": 16,
     "metadata": {},
     "output_type": "execute_result"
    }
   ],
   "source": [
    "grid_search.best_estimator_"
   ]
  },
  {
   "cell_type": "code",
   "execution_count": 17,
   "metadata": {},
   "outputs": [
    {
     "data": {
      "text/plain": [
       "0.7704218675936166"
      ]
     },
     "execution_count": 17,
     "metadata": {},
     "output_type": "execute_result"
    }
   ],
   "source": [
    "grid_search.best_score_"
   ]
  },
  {
   "cell_type": "code",
   "execution_count": 18,
   "metadata": {},
   "outputs": [
    {
     "data": {
      "text/plain": [
       "{'n_neighbors': 9, 'weights': 'uniform'}"
      ]
     },
     "execution_count": 18,
     "metadata": {},
     "output_type": "execute_result"
    }
   ],
   "source": [
    "grid_search.best_params_"
   ]
  },
  {
   "cell_type": "code",
   "execution_count": 19,
   "metadata": {},
   "outputs": [],
   "source": [
    "knn_clf = grid_search.best_estimator_"
   ]
  },
  {
   "cell_type": "code",
   "execution_count": 20,
   "metadata": {},
   "outputs": [
    {
     "data": {
      "text/plain": [
       "0.7830620951177121"
      ]
     },
     "execution_count": 20,
     "metadata": {},
     "output_type": "execute_result"
    }
   ],
   "source": [
    "knn_clf.score(X_standard,y)"
   ]
  },
  {
   "cell_type": "code",
   "execution_count": 21,
   "metadata": {},
   "outputs": [
    {
     "data": {
      "text/plain": [
       "array([1., 1., 1., 0., 1., 1., 1., 1., 1., 1., 1., 1., 1., 1., 1., 1., 1.,\n",
       "       1., 1.])"
      ]
     },
     "execution_count": 21,
     "metadata": {},
     "output_type": "execute_result"
    }
   ],
   "source": [
    "knn_clf.predict(X2_standard)"
   ]
  },
  {
   "cell_type": "code",
   "execution_count": 22,
   "metadata": {},
   "outputs": [],
   "source": [
    "y_pre = knn_clf.predict(X2_standard)"
   ]
  },
  {
   "cell_type": "code",
   "execution_count": 23,
   "metadata": {},
   "outputs": [
    {
     "data": {
      "text/plain": [
       "array([[ 0.45367371, -0.82375447],\n",
       "       [-0.03627327, -0.82375447],\n",
       "       [-0.15304396,  0.82375447],\n",
       "       [ 0.63413751, -0.82375447],\n",
       "       [ 0.25687834,  0.82375447],\n",
       "       [ 0.67496642,  1.64750894],\n",
       "       [ 0.43325925,  1.64750894],\n",
       "       [-1.3403488 , -0.82375447],\n",
       "       [-2.08098531,  0.        ],\n",
       "       [ 1.04569297, -0.82375447],\n",
       "       [ 0.77050608, -0.82375447],\n",
       "       [ 0.99588169, -0.82375447],\n",
       "       [ 0.25687834,  1.64750894],\n",
       "       [-1.58695544, -0.82375447],\n",
       "       [-0.40128376, -0.82375447],\n",
       "       [-0.87571575,  0.        ],\n",
       "       [-1.50693077,  1.64750894],\n",
       "       [ 1.08162241,  0.        ],\n",
       "       [ 1.37804033, -0.82375447]])"
      ]
     },
     "execution_count": 23,
     "metadata": {},
     "output_type": "execute_result"
    }
   ],
   "source": [
    "X2_standard"
   ]
  },
  {
   "cell_type": "code",
   "execution_count": 24,
   "metadata": {},
   "outputs": [
    {
     "data": {
      "image/png": "[encoded data removed]",
      "text/plain": [
       "<Figure size 432x288 with 1 Axes>"
      ]
     },
     "metadata": {},
     "output_type": "display_data"
    }
   ],
   "source": [
    "plt.scatter(X2_standard[y_pre==1][:,0], X2_standard[y_pre==1][:,1], color='blue', label='一般')\n",
    "plt.scatter(X2_standard[y_pre==0][:,0], X2_standard[y_pre==0][:,1], color='red', label='较好')\n",
    "plt.xlabel('x1')\n",
    "plt.ylabel('x6')\n",
    "plt.legend()\n",
    "plt.show()"
   ]
  },
  {
   "cell_type": "code",
   "execution_count": 106,
   "metadata": {},
   "outputs": [],
   "source": [
    "\n",
    "def find(x):\n",
    "    i = 0\n",
    "    min_x = x[0][0]\n",
    "    while(i<100):\n",
    "        i+=1\n",
    "        x[0][0] -= 1\n",
    "        x_ss = standardScaler.transform(x)\n",
    "        y = knn_clf.predict(x_ss)\n",
    "        if(y==0):\n",
    "            return x[0][0]\n",
    "    return None"
   ]
  },
  {
   "cell_type": "code",
   "execution_count": 107,
   "metadata": {},
   "outputs": [
    {
     "data": {
      "text/plain": [
       "1.0"
      ]
     },
     "execution_count": 107,
     "metadata": {},
     "output_type": "execute_result"
    }
   ],
   "source": [
    "np.array([X2.loc[0,:]])[0][1]"
   ]
  },
  {
   "cell_type": "code",
   "execution_count": 108,
   "metadata": {},
   "outputs": [
    {
     "name": "stdout",
     "output_type": "stream",
     "text": [
      "原来是数值为:x1: 67.9  x6: 1.0\n",
      "第1行: \n",
      "当x6为1时: \n",
      "x1最小为: 62.900000000000006\n",
      "此时修改x1和x6两个指标的成本为: 75.0\n",
      "当x6为2时: \n",
      "x1最小为: 50.900000000000006\n",
      "此时修改x1和x6两个指标的成本为: 285.0\n",
      "当x6为3时: \n",
      "x1最小为: None\n",
      "当x6为4时: \n",
      "x1最小为: None\n",
      "第1行调整的最低成本为:75.0 调整的x1值为:62.900000000000006 调整的x6值为:1\n",
      "原来是数值为:x1: 61.9  x6: 1.0\n",
      "第2行: \n",
      "当x6为1时: \n",
      "x1最小为: 58.9\n",
      "此时修改x1和x6两个指标的成本为: 45.0\n",
      "当x6为2时: \n",
      "x1最小为: 50.9\n",
      "此时修改x1和x6两个指标的成本为: 195.0\n",
      "当x6为3时: \n",
      "x1最小为: None\n",
      "当x6为4时: \n",
      "x1最小为: None\n",
      "第2行调整的最低成本为:45.0 调整的x1值为:58.9 调整的x6值为:1\n",
      "原来是数值为:x1: 60.47  x6: 3.0\n",
      "第3行: \n",
      "当x6为1时: \n",
      "x1最小为: 46.47\n",
      "此时修改x1和x6两个指标的成本为: 270.0\n",
      "当x6为2时: \n",
      "x1最小为: 50.47\n",
      "此时修改x1和x6两个指标的成本为: 180.0\n",
      "当x6为3时: \n",
      "x1最小为: None\n",
      "当x6为4时: \n",
      "x1最小为: 57.47\n",
      "此时修改x1和x6两个指标的成本为: 75.0\n",
      "第3行调整的最低成本为:75.0 调整的x1值为:57.47 调整的x6值为:4\n",
      "原来是数值为:x1: 70.11  x6: 1.0\n",
      "第4行: \n",
      "当x6为1时: \n",
      "x1最小为: 61.11\n",
      "此时修改x1和x6两个指标的成本为: 135.0\n",
      "当x6为2时: \n",
      "x1最小为: 51.11\n",
      "此时修改x1和x6两个指标的成本为: 315.0\n",
      "当x6为3时: \n",
      "x1最小为: None\n",
      "当x6为4时: \n",
      "x1最小为: None\n",
      "第4行调整的最低成本为:135.0 调整的x1值为:61.11 调整的x6值为:1\n",
      "原来是数值为:x1: 65.49  x6: 3.0\n",
      "第5行: \n",
      "当x6为1时: \n",
      "x1最小为: 46.489999999999995\n",
      "此时修改x1和x6两个指标的成本为: 345.0\n",
      "当x6为2时: \n",
      "x1最小为: 50.489999999999995\n",
      "此时修改x1和x6两个指标的成本为: 255.0\n",
      "当x6为3时: \n",
      "x1最小为: None\n",
      "当x6为4时: \n",
      "x1最小为: 57.489999999999995\n",
      "此时修改x1和x6两个指标的成本为: 150.0\n",
      "第5行调整的最低成本为:150.0 调整的x1值为:57.489999999999995 调整的x6值为:4\n",
      "原来是数值为:x1: 70.61  x6: 4.0\n",
      "第6行: \n",
      "当x6为1时: \n",
      "x1最小为: 46.61\n",
      "此时修改x1和x6两个指标的成本为: 450.0\n",
      "当x6为2时: \n",
      "x1最小为: 50.61\n",
      "此时修改x1和x6两个指标的成本为: 360.0\n",
      "当x6为3时: \n",
      "x1最小为: None\n",
      "当x6为4时: \n",
      "x1最小为: 57.61\n",
      "此时修改x1和x6两个指标的成本为: 195.0\n",
      "第6行调整的最低成本为:195.0 调整的x1值为:57.61 调整的x6值为:4\n",
      "原来是数值为:x1: 67.65  x6: 4.0\n",
      "第7行: \n",
      "当x6为1时: \n",
      "x1最小为: 46.650000000000006\n",
      "此时修改x1和x6两个指标的成本为: 405.0\n",
      "当x6为2时: \n",
      "x1最小为: 50.650000000000006\n",
      "此时修改x1和x6两个指标的成本为: 315.0\n",
      "当x6为3时: \n",
      "x1最小为: None\n",
      "当x6为4时: \n",
      "x1最小为: 57.650000000000006\n",
      "此时修改x1和x6两个指标的成本为: 150.0\n",
      "第7行调整的最低成本为:150.0 调整的x1值为:57.650000000000006 调整的x6值为:4\n",
      "原来是数值为:x1: 45.93  x6: 1.0\n",
      "第8行: \n",
      "当x6为1时: \n",
      "x1最小为: 41.93\n",
      "此时修改x1和x6两个指标的成本为: 60.0\n",
      "当x6为2时: \n",
      "x1最小为: None\n",
      "当x6为3时: \n",
      "x1最小为: None\n",
      "当x6为4时: \n",
      "x1最小为: None\n",
      "第8行调整的最低成本为:60.0 调整的x1值为:41.93 调整的x6值为:1\n",
      "原来是数值为:x1: 36.86  x6: 2.0\n",
      "第9行: \n",
      "当x6为1时: \n",
      "x1最小为: 35.86\n",
      "此时修改x1和x6两个指标的成本为: 45.0\n",
      "当x6为2时: \n",
      "x1最小为: None\n",
      "当x6为3时: \n",
      "x1最小为: None\n",
      "当x6为4时: \n",
      "x1最小为: None\n",
      "第9行调整的最低成本为:45.0 调整的x1值为:35.86 调整的x6值为:1\n",
      "原来是数值为:x1: 75.15  x6: 1.0\n",
      "第10行: \n",
      "当x6为1时: \n",
      "x1最小为: 70.15\n",
      "此时修改x1和x6两个指标的成本为: 75.0\n",
      "当x6为2时: \n",
      "x1最小为: None\n",
      "当x6为3时: \n",
      "x1最小为: None\n",
      "当x6为4时: \n",
      "x1最小为: None\n",
      "第10行调整的最低成本为:75.0 调整的x1值为:70.15 调整的x6值为:1\n",
      "原来是数值为:x1: 71.78  x6: 1.0\n",
      "第11行: \n",
      "当x6为1时: \n",
      "x1最小为: 62.78\n",
      "此时修改x1和x6两个指标的成本为: 135.0\n",
      "当x6为2时: \n",
      "x1最小为: 50.78\n",
      "此时修改x1和x6两个指标的成本为: 345.0\n",
      "当x6为3时: \n",
      "x1最小为: None\n",
      "当x6为4时: \n",
      "x1最小为: 57.78\n",
      "此时修改x1和x6两个指标的成本为: 300.0\n",
      "第11行调整的最低成本为:135.0 调整的x1值为:62.78 调整的x6值为:1\n",
      "原来是数值为:x1: 74.54  x6: 1.0\n",
      "第12行: \n",
      "当x6为1时: \n",
      "x1最小为: 70.54\n",
      "此时修改x1和x6两个指标的成本为: 60.0\n",
      "当x6为2时: \n",
      "x1最小为: 50.540000000000006\n",
      "此时修改x1和x6两个指标的成本为: 390.0\n",
      "当x6为3时: \n",
      "x1最小为: None\n",
      "当x6为4时: \n",
      "x1最小为: 57.540000000000006\n",
      "此时修改x1和x6两个指标的成本为: 345.0\n",
      "第12行调整的最低成本为:60.0 调整的x1值为:70.54 调整的x6值为:1\n",
      "原来是数值为:x1: 65.49  x6: 4.0\n",
      "第13行: \n",
      "当x6为1时: \n",
      "x1最小为: 46.489999999999995\n",
      "此时修改x1和x6两个指标的成本为: 375.0\n",
      "当x6为2时: \n",
      "x1最小为: 50.489999999999995\n",
      "此时修改x1和x6两个指标的成本为: 285.0\n",
      "当x6为3时: \n",
      "x1最小为: None\n",
      "当x6为4时: \n",
      "x1最小为: 57.489999999999995\n",
      "此时修改x1和x6两个指标的成本为: 120.0\n",
      "第13行调整的最低成本为:120.0 调整的x1值为:57.489999999999995 调整的x6值为:4\n",
      "原来是数值为:x1: 42.91  x6: 1.0\n",
      "第14行: \n",
      "当x6为1时: \n",
      "x1最小为: 41.91\n",
      "此时修改x1和x6两个指标的成本为: 15.0\n",
      "当x6为2时: \n",
      "x1最小为: 39.91\n",
      "此时修改x1和x6两个指标的成本为: 75.0\n",
      "当x6为3时: \n",
      "x1最小为: None\n",
      "当x6为4时: \n",
      "x1最小为: None\n",
      "第14行调整的最低成本为:15.0 调整的x1值为:41.91 调整的x6值为:1\n",
      "原来是数值为:x1: 57.43  x6: 1.0\n",
      "第15行: \n",
      "当x6为1时: \n",
      "x1最小为: 46.43\n",
      "此时修改x1和x6两个指标的成本为: 165.0\n",
      "当x6为2时: \n",
      "x1最小为: 50.43\n",
      "此时修改x1和x6两个指标的成本为: 135.0\n",
      "当x6为3时: \n",
      "x1最小为: None\n",
      "当x6为4时: \n",
      "x1最小为: None\n",
      "第15行调整的最低成本为:135.0 调整的x1值为:50.43 调整的x6值为:2\n",
      "原来是数值为:x1: 51.62  x6: 2.0\n",
      "第16行: \n",
      "当x6为1时: \n",
      "x1最小为: 46.62\n",
      "此时修改x1和x6两个指标的成本为: 105.0\n",
      "当x6为2时: \n",
      "x1最小为: 50.62\n",
      "此时修改x1和x6两个指标的成本为: 15.0\n",
      "当x6为3时: \n",
      "x1最小为: None\n",
      "当x6为4时: \n",
      "x1最小为: None\n",
      "第16行调整的最低成本为:15.0 调整的x1值为:50.62 调整的x6值为:2\n",
      "原来是数值为:x1: 43.89  x6: 4.0\n",
      "第17行: \n",
      "当x6为1时: \n",
      "x1最小为: 41.89\n",
      "此时修改x1和x6两个指标的成本为: 120.0\n",
      "当x6为2时: \n",
      "x1最小为: 39.89\n",
      "此时修改x1和x6两个指标的成本为: 120.0\n",
      "当x6为3时: \n",
      "x1最小为: None\n",
      "当x6为4时: \n",
      "x1最小为: None\n",
      "第17行调整的最低成本为:120.0 调整的x1值为:41.89 调整的x6值为:1\n",
      "原来是数值为:x1: 75.59  x6: 2.0\n",
      "第18行: \n",
      "当x6为1时: \n",
      "x1最小为: 70.59\n",
      "此时修改x1和x6两个指标的成本为: 105.0\n",
      "当x6为2时: \n",
      "x1最小为: 50.59\n",
      "此时修改x1和x6两个指标的成本为: 375.0\n",
      "当x6为3时: \n",
      "x1最小为: None\n",
      "当x6为4时: \n",
      "x1最小为: 57.59\n",
      "此时修改x1和x6两个指标的成本为: 330.0\n",
      "第18行调整的最低成本为:105.0 调整的x1值为:70.59 调整的x6值为:1\n",
      "原来是数值为:x1: 79.22  x6: 1.0\n",
      "第19行: \n",
      "当x6为1时: \n",
      "x1最小为: 70.22\n",
      "此时修改x1和x6两个指标的成本为: 135.0\n",
      "当x6为2时: \n",
      "x1最小为: None\n",
      "当x6为3时: \n",
      "x1最小为: None\n",
      "当x6为4时: \n",
      "x1最小为: 57.22\n",
      "此时修改x1和x6两个指标的成本为: 420.0\n",
      "第19行调整的最低成本为:135.0 调整的x1值为:70.22 调整的x6值为:1\n"
     ]
    }
   ],
   "source": [
    "for i in range(0,19):\n",
    "    x = np.array([X2.loc[i,:]])\n",
    "    print('原来是数值为:'+'x1: '+ str(x[0][0]) + '  x6: ' + str(x[0][1]))\n",
    "    print('第' + str(i+1) + '行: ')\n",
    "    yuan_x = x[0][0]\n",
    "    yuan_x6 = x[0][1]\n",
    "    i_min = 999999999\n",
    "    x1_now = x[0][0]\n",
    "    x6_now = x[0][1]\n",
    "    for j in range(1,5):\n",
    "        x[0][1] = float(j)\n",
    "        x[0][0] = yuan_x\n",
    "        print('当x6为' + str(j) + '时: ')   \n",
    "        find_x1 = find(x)\n",
    "        print('x1最小为: ' + str(find_x1))\n",
    "        if(find_x1 != None):\n",
    "            min_pri = (yuan_x - find_x1)*15 + (abs(yuan_x6-j))*30\n",
    "            print('此时修改x1和x6两个指标的成本为: '+ str(min_pri))\n",
    "            if min_pri < i_min:\n",
    "                i_min = min_pri\n",
    "                x1_now = find_x1\n",
    "                x6_now = j\n",
    "    print('第' + str(i+1) + '行调整的最低成本为:'+ str(i_min) + ' 调整的x1值为:'+str(x1_now)+ ' 调整的x6值为:'+str(x6_now))"
   ]
  },
  {
   "cell_type": "code",
   "execution_count": null,
   "metadata": {},
   "outputs": [],
   "source": []
  },
  {
   "cell_type": "code",
   "execution_count": null,
   "metadata": {},
   "outputs": [],
   "source": []
  },
  {
   "cell_type": "code",
   "execution_count": null,
   "metadata": {},
   "outputs": [],
   "source": []
  }
 ],
 "metadata": {
  "kernelspec": {
   "display_name": "Python 3",
   "language": "python",
   "name": "python3"
  },
  "language_info": {
   "codemirror_mode": {
    "name": "ipython",
    "version": 3
   },
   "file_extension": ".py",
   "mimetype": "text/x-python",
   "name": "python",
   "nbconvert_exporter": "python",
   "pygments_lexer": "ipython3",
   "version": "3.6.5"
  }
 },
 "nbformat": 4,
 "nbformat_minor": 2
}
