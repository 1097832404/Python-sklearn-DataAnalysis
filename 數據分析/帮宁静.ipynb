{
 "cells": [
  {
   "cell_type": "code",
   "execution_count": 1,
   "metadata": {},
   "outputs": [],
   "source": [
    "import pandas as pd\n",
    "import numpy as np\n",
    "from pandas import Series, DataFrame\n",
    "import matplotlib.pyplot as plt\n",
    "from datetime import datetime\n",
    "import seaborn as sns\n",
    "sns.set()\n",
    "plt.rcParams['font.sans-serif'] = ['SimHei'] # 显示中文标题 \n",
    "plt.rcParams['axes.unicode_minus'] = False # 正常显示正负号"
   ]
  },
  {
   "cell_type": "markdown",
   "metadata": {},
   "source": [
    "* 问题：1：在总表里筛选数据，接着创建唯一ID，最后把其他子表中总表没有的内容根据唯一ID拼接到总表后面\n",
    "* 过滤：空值过滤(删整行),ST(不景气的)过滤,范围过滤(筛选2.5~97.5%间的连续数据,避免极端影响)\n",
    "# 1.读数据"
   ]
  },
  {
   "cell_type": "code",
   "execution_count": 2,
   "metadata": {},
   "outputs": [],
   "source": [
    "df1 = pd.read_excel(r'C:\\Users\\WuChuPeng\\Desktop\\其他\\宁静\\roa.xlsx')\n",
    "df2 = pd.read_excel(r'C:\\Users\\WuChuPeng\\Desktop\\其他\\宁静\\独董比例.xlsx')\n",
    "df3 = pd.read_excel(r'C:\\Users\\WuChuPeng\\Desktop\\其他\\宁静\\固定资产.xlsx')\n",
    "df4 = pd.read_excel(r'C:\\Users\\WuChuPeng\\Desktop\\其他\\宁静\\营收增长率.xlsx')\n",
    "df5 = pd.read_excel(r'C:\\Users\\WuChuPeng\\Desktop\\其他\\宁静\\资产负债率.xlsx')\n",
    "df6 = pd.read_excel(r'C:\\Users\\WuChuPeng\\Desktop\\其他\\宁静\\总资产----同时也是班级的表，其他五个是年纪的表.xlsx')"
   ]
  },
  {
   "cell_type": "code",
   "execution_count": 3,
   "metadata": {},
   "outputs": [
    {
     "data": {
      "text/html": [
       "<div>\n",
       "<style scoped>\n",
       "    .dataframe tbody tr th:only-of-type {\n",
       "        vertical-align: middle;\n",
       "    }\n",
       "\n",
       "    .dataframe tbody tr th {\n",
       "        vertical-align: top;\n",
       "    }\n",
       "\n",
       "    .dataframe thead th {\n",
       "        text-align: right;\n",
       "    }\n",
       "</style>\n",
       "<table border=\"1\" class=\"dataframe\">\n",
       "  <thead>\n",
       "    <tr style=\"text-align: right;\">\n",
       "      <th></th>\n",
       "      <th>Stkcd</th>\n",
       "      <th>Reptdt</th>\n",
       "      <th>Stknme</th>\n",
       "      <th>Nindcd</th>\n",
       "      <th>Nindnme</th>\n",
       "      <th>A001000000</th>\n",
       "    </tr>\n",
       "  </thead>\n",
       "  <tbody>\n",
       "    <tr>\n",
       "      <th>0</th>\n",
       "      <td>证券代码</td>\n",
       "      <td>统计截止日期</td>\n",
       "      <td>证券简称</td>\n",
       "      <td>行业代码</td>\n",
       "      <td>行业名称</td>\n",
       "      <td>总资产</td>\n",
       "    </tr>\n",
       "    <tr>\n",
       "      <th>1</th>\n",
       "      <td>000004</td>\n",
       "      <td>2014-12-31</td>\n",
       "      <td>国农科技</td>\n",
       "      <td>C27</td>\n",
       "      <td>医药制造业</td>\n",
       "      <td>3.38283e+08</td>\n",
       "    </tr>\n",
       "    <tr>\n",
       "      <th>2</th>\n",
       "      <td>000004</td>\n",
       "      <td>2015-12-31</td>\n",
       "      <td>国农科技</td>\n",
       "      <td>C27</td>\n",
       "      <td>医药制造业</td>\n",
       "      <td>3.98674e+08</td>\n",
       "    </tr>\n",
       "    <tr>\n",
       "      <th>3</th>\n",
       "      <td>000004</td>\n",
       "      <td>2016-12-31</td>\n",
       "      <td>国农科技</td>\n",
       "      <td>C27</td>\n",
       "      <td>医药制造业</td>\n",
       "      <td>2.23716e+08</td>\n",
       "    </tr>\n",
       "    <tr>\n",
       "      <th>4</th>\n",
       "      <td>000004</td>\n",
       "      <td>2017-12-31</td>\n",
       "      <td>国农科技</td>\n",
       "      <td>C27</td>\n",
       "      <td>医药制造业</td>\n",
       "      <td>2.68844e+08</td>\n",
       "    </tr>\n",
       "  </tbody>\n",
       "</table>\n",
       "</div>"
      ],
      "text/plain": [
       "    Stkcd      Reptdt Stknme Nindcd Nindnme   A001000000\n",
       "0    证券代码      统计截止日期   证券简称   行业代码    行业名称          总资产\n",
       "1  000004  2014-12-31   国农科技    C27   医药制造业  3.38283e+08\n",
       "2  000004  2015-12-31   国农科技    C27   医药制造业  3.98674e+08\n",
       "3  000004  2016-12-31   国农科技    C27   医药制造业  2.23716e+08\n",
       "4  000004  2017-12-31   国农科技    C27   医药制造业  2.68844e+08"
      ]
     },
     "execution_count": 3,
     "metadata": {},
     "output_type": "execute_result"
    }
   ],
   "source": [
    "df6.head()"
   ]
  },
  {
   "cell_type": "markdown",
   "metadata": {},
   "source": [
    "# 2.筛选12.31和A数据"
   ]
  },
  {
   "cell_type": "code",
   "execution_count": 4,
   "metadata": {},
   "outputs": [],
   "source": [
    "def myfitter(col, ends, df):\n",
    "    ###要过滤的列,过滤内容,df###\n",
    "    return df[[t.endswith(ends) for t in df.iloc[:,col].values]]"
   ]
  },
  {
   "cell_type": "code",
   "execution_count": 5,
   "metadata": {},
   "outputs": [],
   "source": [
    "df1 = myfitter(1,'12-31',df1)\n",
    "df2 = myfitter(1,'12-31',df2)\n",
    "df3 = myfitter(1,'12-31',df3)\n",
    "df4 = myfitter(1,'12-31',df4)\n",
    "df5 = myfitter(1,'12-31',df5)\n",
    "df6 = myfitter(1,'12-31',df6)\n",
    "\n",
    "df1 = myfitter(2,'A',df1)\n",
    "df3 = myfitter(2,'A',df3)\n",
    "df4 = myfitter(2,'A',df4)\n",
    "df5 = myfitter(2,'A',df5)"
   ]
  },
  {
   "cell_type": "markdown",
   "metadata": {},
   "source": [
    "# 3.ID生成"
   ]
  },
  {
   "cell_type": "code",
   "execution_count": 6,
   "metadata": {
    "scrolled": true
   },
   "outputs": [],
   "source": [
    "def createId(df,col1,col2):\n",
    "    df['ID'] = df.iloc[:,col1]+df.iloc[:,col2]"
   ]
  },
  {
   "cell_type": "code",
   "execution_count": 7,
   "metadata": {},
   "outputs": [],
   "source": [
    "createId(df1,0,1)\n",
    "createId(df2,0,1)\n",
    "createId(df3,0,1)\n",
    "createId(df4,0,1)\n",
    "createId(df5,0,1)\n",
    "createId(df6,0,1)"
   ]
  },
  {
   "cell_type": "markdown",
   "metadata": {},
   "source": [
    "# 4.合并表"
   ]
  },
  {
   "cell_type": "code",
   "execution_count": 8,
   "metadata": {},
   "outputs": [
    {
     "name": "stdout",
     "output_type": "stream",
     "text": [
      "Index(['Stkcd', 'Accper', 'Typrep', 'F050203B', 'ID'], dtype='object')\n",
      "Index(['Stkcd', 'Reptdt', 'Stknme', 'dir', 'ID'], dtype='object')\n",
      "Index(['Stkcd', 'Accper', 'Typrep', 'C002006000', 'ID'], dtype='object')\n",
      "Index(['Stkcd', 'Accper', 'Typrep', 'F081701B', 'ID'], dtype='object')\n",
      "Index(['Stkcd', 'Accper', 'Typrep', 'F011201A', 'ID'], dtype='object')\n",
      "Index(['Stkcd', 'Reptdt', 'Stknme', 'Nindcd', 'Nindnme', 'A001000000', 'ID'], dtype='object')\n"
     ]
    }
   ],
   "source": [
    "print(df1.columns)\n",
    "print(df2.columns)\n",
    "print(df3.columns)\n",
    "print(df4.columns)\n",
    "print(df5.columns)\n",
    "print(df6.columns)"
   ]
  },
  {
   "cell_type": "code",
   "execution_count": 9,
   "metadata": {},
   "outputs": [],
   "source": [
    "# 创造空列\n",
    "def createNoColList(df1,df2):\n",
    "    colList = [str for str in df2.columns if str not in df1.columns]\n",
    "    for str in colList:\n",
    "        df1[str] = None"
   ]
  },
  {
   "cell_type": "code",
   "execution_count": 10,
   "metadata": {},
   "outputs": [],
   "source": [
    "createNoColList(df6,df1)\n",
    "createNoColList(df6,df2)\n",
    "createNoColList(df6,df3)\n",
    "createNoColList(df6,df4)\n",
    "createNoColList(df6,df5)"
   ]
  },
  {
   "cell_type": "code",
   "execution_count": 11,
   "metadata": {},
   "outputs": [
    {
     "data": {
      "text/html": [
       "<div>\n",
       "<style scoped>\n",
       "    .dataframe tbody tr th:only-of-type {\n",
       "        vertical-align: middle;\n",
       "    }\n",
       "\n",
       "    .dataframe tbody tr th {\n",
       "        vertical-align: top;\n",
       "    }\n",
       "\n",
       "    .dataframe thead th {\n",
       "        text-align: right;\n",
       "    }\n",
       "</style>\n",
       "<table border=\"1\" class=\"dataframe\">\n",
       "  <thead>\n",
       "    <tr style=\"text-align: right;\">\n",
       "      <th></th>\n",
       "      <th>Stkcd</th>\n",
       "      <th>Reptdt</th>\n",
       "      <th>Stknme</th>\n",
       "      <th>Nindcd</th>\n",
       "      <th>Nindnme</th>\n",
       "      <th>A001000000</th>\n",
       "      <th>ID</th>\n",
       "      <th>Accper</th>\n",
       "      <th>Typrep</th>\n",
       "      <th>F050203B</th>\n",
       "      <th>dir</th>\n",
       "      <th>C002006000</th>\n",
       "      <th>F081701B</th>\n",
       "      <th>F011201A</th>\n",
       "    </tr>\n",
       "  </thead>\n",
       "  <tbody>\n",
       "    <tr>\n",
       "      <th>1</th>\n",
       "      <td>000004</td>\n",
       "      <td>2014-12-31</td>\n",
       "      <td>国农科技</td>\n",
       "      <td>C27</td>\n",
       "      <td>医药制造业</td>\n",
       "      <td>3.38283e+08</td>\n",
       "      <td>0000042014-12-31</td>\n",
       "      <td>None</td>\n",
       "      <td>None</td>\n",
       "      <td>None</td>\n",
       "      <td>None</td>\n",
       "      <td>None</td>\n",
       "      <td>None</td>\n",
       "      <td>None</td>\n",
       "    </tr>\n",
       "    <tr>\n",
       "      <th>2</th>\n",
       "      <td>000004</td>\n",
       "      <td>2015-12-31</td>\n",
       "      <td>国农科技</td>\n",
       "      <td>C27</td>\n",
       "      <td>医药制造业</td>\n",
       "      <td>3.98674e+08</td>\n",
       "      <td>0000042015-12-31</td>\n",
       "      <td>None</td>\n",
       "      <td>None</td>\n",
       "      <td>None</td>\n",
       "      <td>None</td>\n",
       "      <td>None</td>\n",
       "      <td>None</td>\n",
       "      <td>None</td>\n",
       "    </tr>\n",
       "    <tr>\n",
       "      <th>3</th>\n",
       "      <td>000004</td>\n",
       "      <td>2016-12-31</td>\n",
       "      <td>国农科技</td>\n",
       "      <td>C27</td>\n",
       "      <td>医药制造业</td>\n",
       "      <td>2.23716e+08</td>\n",
       "      <td>0000042016-12-31</td>\n",
       "      <td>None</td>\n",
       "      <td>None</td>\n",
       "      <td>None</td>\n",
       "      <td>None</td>\n",
       "      <td>None</td>\n",
       "      <td>None</td>\n",
       "      <td>None</td>\n",
       "    </tr>\n",
       "    <tr>\n",
       "      <th>4</th>\n",
       "      <td>000004</td>\n",
       "      <td>2017-12-31</td>\n",
       "      <td>国农科技</td>\n",
       "      <td>C27</td>\n",
       "      <td>医药制造业</td>\n",
       "      <td>2.68844e+08</td>\n",
       "      <td>0000042017-12-31</td>\n",
       "      <td>None</td>\n",
       "      <td>None</td>\n",
       "      <td>None</td>\n",
       "      <td>None</td>\n",
       "      <td>None</td>\n",
       "      <td>None</td>\n",
       "      <td>None</td>\n",
       "    </tr>\n",
       "    <tr>\n",
       "      <th>5</th>\n",
       "      <td>000004</td>\n",
       "      <td>2018-12-31</td>\n",
       "      <td>国农科技</td>\n",
       "      <td>C27</td>\n",
       "      <td>医药制造业</td>\n",
       "      <td>3.51177e+08</td>\n",
       "      <td>0000042018-12-31</td>\n",
       "      <td>None</td>\n",
       "      <td>None</td>\n",
       "      <td>None</td>\n",
       "      <td>None</td>\n",
       "      <td>None</td>\n",
       "      <td>None</td>\n",
       "      <td>None</td>\n",
       "    </tr>\n",
       "  </tbody>\n",
       "</table>\n",
       "</div>"
      ],
      "text/plain": [
       "    Stkcd      Reptdt Stknme Nindcd Nindnme   A001000000                ID  \\\n",
       "1  000004  2014-12-31   国农科技    C27   医药制造业  3.38283e+08  0000042014-12-31   \n",
       "2  000004  2015-12-31   国农科技    C27   医药制造业  3.98674e+08  0000042015-12-31   \n",
       "3  000004  2016-12-31   国农科技    C27   医药制造业  2.23716e+08  0000042016-12-31   \n",
       "4  000004  2017-12-31   国农科技    C27   医药制造业  2.68844e+08  0000042017-12-31   \n",
       "5  000004  2018-12-31   国农科技    C27   医药制造业  3.51177e+08  0000042018-12-31   \n",
       "\n",
       "  Accper Typrep F050203B   dir C002006000 F081701B F011201A  \n",
       "1   None   None     None  None       None     None     None  \n",
       "2   None   None     None  None       None     None     None  \n",
       "3   None   None     None  None       None     None     None  \n",
       "4   None   None     None  None       None     None     None  \n",
       "5   None   None     None  None       None     None     None  "
      ]
     },
     "execution_count": 11,
     "metadata": {},
     "output_type": "execute_result"
    }
   ],
   "source": [
    "df6.head()"
   ]
  },
  {
   "cell_type": "markdown",
   "metadata": {},
   "source": [
    "* 根据ID筛选填充"
   ]
  },
  {
   "cell_type": "code",
   "execution_count": 12,
   "metadata": {},
   "outputs": [
    {
     "data": {
      "text/html": [
       "<div>\n",
       "<style scoped>\n",
       "    .dataframe tbody tr th:only-of-type {\n",
       "        vertical-align: middle;\n",
       "    }\n",
       "\n",
       "    .dataframe tbody tr th {\n",
       "        vertical-align: top;\n",
       "    }\n",
       "\n",
       "    .dataframe thead th {\n",
       "        text-align: right;\n",
       "    }\n",
       "</style>\n",
       "<table border=\"1\" class=\"dataframe\">\n",
       "  <thead>\n",
       "    <tr style=\"text-align: right;\">\n",
       "      <th></th>\n",
       "      <th>Stkcd</th>\n",
       "      <th>Accper</th>\n",
       "      <th>Typrep</th>\n",
       "      <th>F050203B</th>\n",
       "      <th>ID</th>\n",
       "    </tr>\n",
       "  </thead>\n",
       "  <tbody>\n",
       "    <tr>\n",
       "      <th>14889</th>\n",
       "      <td>002107</td>\n",
       "      <td>2014-12-31</td>\n",
       "      <td>A</td>\n",
       "      <td>0.055642</td>\n",
       "      <td>0021072014-12-31</td>\n",
       "    </tr>\n",
       "    <tr>\n",
       "      <th>14891</th>\n",
       "      <td>002538</td>\n",
       "      <td>2014-12-31</td>\n",
       "      <td>A</td>\n",
       "      <td>0.047583</td>\n",
       "      <td>0025382014-12-31</td>\n",
       "    </tr>\n",
       "    <tr>\n",
       "      <th>14893</th>\n",
       "      <td>002654</td>\n",
       "      <td>2014-12-31</td>\n",
       "      <td>A</td>\n",
       "      <td>0.044426</td>\n",
       "      <td>0026542014-12-31</td>\n",
       "    </tr>\n",
       "    <tr>\n",
       "      <th>14895</th>\n",
       "      <td>600593</td>\n",
       "      <td>2014-12-31</td>\n",
       "      <td>A</td>\n",
       "      <td>0.05516</td>\n",
       "      <td>6005932014-12-31</td>\n",
       "    </tr>\n",
       "    <tr>\n",
       "      <th>14897</th>\n",
       "      <td>300358</td>\n",
       "      <td>2014-12-31</td>\n",
       "      <td>A</td>\n",
       "      <td>0.124917</td>\n",
       "      <td>3003582014-12-31</td>\n",
       "    </tr>\n",
       "  </tbody>\n",
       "</table>\n",
       "</div>"
      ],
      "text/plain": [
       "        Stkcd      Accper Typrep  F050203B                ID\n",
       "14889  002107  2014-12-31      A  0.055642  0021072014-12-31\n",
       "14891  002538  2014-12-31      A  0.047583  0025382014-12-31\n",
       "14893  002654  2014-12-31      A  0.044426  0026542014-12-31\n",
       "14895  600593  2014-12-31      A   0.05516  6005932014-12-31\n",
       "14897  300358  2014-12-31      A  0.124917  3003582014-12-31"
      ]
     },
     "execution_count": 12,
     "metadata": {},
     "output_type": "execute_result"
    }
   ],
   "source": [
    "df1.head()"
   ]
  },
  {
   "cell_type": "code",
   "execution_count": 13,
   "metadata": {},
   "outputs": [],
   "source": [
    "# 把ID和索引做成字典方便检索\n",
    "dt = dict(zip(df6['ID'].values,df6['ID'].index))"
   ]
  },
  {
   "cell_type": "code",
   "execution_count": 14,
   "metadata": {},
   "outputs": [],
   "source": [
    "# 找出有ID的两个表的索引\n",
    "def combineDf(df,df1):\n",
    "    for idx in df1.index:\n",
    "        id =df1.loc[idx,'ID']\n",
    "        if id in dt:\n",
    "            # print(idx)\n",
    "            # 赋值\n",
    "            for col in df1.columns:\n",
    "                df.loc[dt[id],col] = df1.loc[idx,col]\n",
    "    return df"
   ]
  },
  {
   "cell_type": "code",
   "execution_count": null,
   "metadata": {},
   "outputs": [],
   "source": [
    "df6 = combineDf(df6,df1)\n",
    "df6 = combineDf(df6,df2)\n",
    "df6 = combineDf(df6,df3)\n",
    "df6 = combineDf(df6,df4)\n",
    "df6 = combineDf(df6,df5)"
   ]
  },
  {
   "cell_type": "code",
   "execution_count": null,
   "metadata": {},
   "outputs": [],
   "source": [
    "# df6.to_excel(r'C:\\Users\\WuChuPeng\\Desktop\\其他\\宁静\\中间表.xlsx')"
   ]
  },
  {
   "cell_type": "markdown",
   "metadata": {},
   "source": [
    "# 5.空值过滤,ST过滤,范围过滤"
   ]
  },
  {
   "cell_type": "code",
   "execution_count": null,
   "metadata": {},
   "outputs": [],
   "source": [
    "# 空值过滤\n",
    "# df6 = df6.dropna()"
   ]
  },
  {
   "cell_type": "code",
   "execution_count": null,
   "metadata": {},
   "outputs": [],
   "source": [
    "df6.head()"
   ]
  },
  {
   "cell_type": "code",
   "execution_count": null,
   "metadata": {},
   "outputs": [],
   "source": [
    "# ST过滤\n",
    "df6 = df6[[t.find('ST')==-1 for t in df6.iloc[:,2].values]]"
   ]
  },
  {
   "cell_type": "code",
   "execution_count": null,
   "metadata": {},
   "outputs": [],
   "source": [
    "# 范围过滤\n",
    "def fitterMiAndMx(df,col,rate1,rate2):\n",
    "    sortL = sorted(df[col].values)\n",
    "    mi = sortL[int(len(sortL)*rate1)]\n",
    "    mx = sortL[int(len(sortL)*rate2)]\n",
    "    return df[[t>mi and t<mx for t in df.loc[:,col].values]]"
   ]
  },
  {
   "cell_type": "code",
   "execution_count": null,
   "metadata": {},
   "outputs": [],
   "source": [
    "#df6 = fitterMiAndMx(df6,'A001000000',0.025,0.975)\n",
    "#df6 = fitterMiAndMx(df6,'F050203B',0.025,0.975)\n",
    "#df6 = fitterMiAndMx(df6,'dir',0.025,0.975)\n",
    "#df6 = fitterMiAndMx(df6,'C002006000',0.025,0.975)\n",
    "#df6 = fitterMiAndMx(df6,'F081701B',0.025,0.975)\n",
    "#df6 = fitterMiAndMx(df6,'F011201A',0.025,0.975)"
   ]
  },
  {
   "cell_type": "code",
   "execution_count": null,
   "metadata": {},
   "outputs": [],
   "source": [
    "# df6.to_excel(r'C:\\Users\\WuChuPeng\\Desktop\\其他\\宁静\\完成表.xlsx')"
   ]
  },
  {
   "cell_type": "markdown",
   "metadata": {},
   "source": [
    "# 二、分表处理(按年份分表,小表取最大值作为代表,其他删除)\n",
    "* 对分出来的6个表的每个企业取最近投资的行数据(称为最近增量表吧)"
   ]
  },
  {
   "cell_type": "code",
   "execution_count": null,
   "metadata": {},
   "outputs": [],
   "source": [
    "df7 = pd.read_excel(r'C:\\Users\\WuChuPeng\\Desktop\\其他\\宁静\\产融集合(1).xlsx')"
   ]
  },
  {
   "cell_type": "code",
   "execution_count": null,
   "metadata": {},
   "outputs": [],
   "source": [
    "# 按年份分表\n",
    "g = list(df7.groupby('year'))"
   ]
  },
  {
   "cell_type": "code",
   "execution_count": null,
   "metadata": {},
   "outputs": [],
   "source": [
    "df2013 = g[0][1]\n",
    "df2014 = g[1][1]\n",
    "df2015 = g[2][1]\n",
    "df2016 = g[3][1]\n",
    "df2017 = g[4][1]\n",
    "df2018 = g[5][1]"
   ]
  },
  {
   "cell_type": "code",
   "execution_count": null,
   "metadata": {},
   "outputs": [],
   "source": [
    "# 取最大值作为代表,其他删除\n",
    "def getMaxAndFitter(df,Name,col):\n",
    "    dt = {}\n",
    "    # 筛选企业最大值\n",
    "    for name,val in zip(df.loc[:,Name].values,df.loc[:,col].values):\n",
    "        if name not in dt:\n",
    "            dt[name] = val\n",
    "        else:\n",
    "            dt[name] = max(dt[name],val)\n",
    "    # 过滤\n",
    "    return df[[val>=dt[name] for name,val in zip(df.loc[:,Name].values,df.loc[:,col].values)]]"
   ]
  },
  {
   "cell_type": "code",
   "execution_count": null,
   "metadata": {
    "scrolled": true
   },
   "outputs": [],
   "source": [
    "df2013 = getMaxAndFitter(df2013,'名称','持有数量(万股/份)')\n",
    "df2014 = getMaxAndFitter(df2014,'名称','持有数量(万股/份)')\n",
    "df2015 = getMaxAndFitter(df2015,'名称','持有数量(万股/份)')\n",
    "df2016 = getMaxAndFitter(df2016,'名称','持有数量(万股/份)')\n",
    "df2017 = getMaxAndFitter(df2017,'名称','持有数量(万股/份)')\n",
    "df2018 = getMaxAndFitter(df2018,'名称','持有数量(万股/份)')\n",
    "\n",
    "df2013 = getMaxAndFitter(df2013,'名称','持股比例')\n",
    "df2014 = getMaxAndFitter(df2014,'名称','持股比例')\n",
    "df2015 = getMaxAndFitter(df2015,'名称','持股比例')\n",
    "df2016 = getMaxAndFitter(df2016,'名称','持股比例')\n",
    "df2017 = getMaxAndFitter(df2017,'名称','持股比例')\n",
    "df2018 = getMaxAndFitter(df2018,'名称','持股比例')"
   ]
  },
  {
   "cell_type": "code",
   "execution_count": null,
   "metadata": {},
   "outputs": [],
   "source": [
    "df2015"
   ]
  },
  {
   "cell_type": "markdown",
   "metadata": {},
   "source": [
    "* 最近增量表:把本年的数据依次合并到上一年即可"
   ]
  },
  {
   "cell_type": "code",
   "execution_count": null,
   "metadata": {},
   "outputs": [],
   "source": [
    "def insertAndCombine(df,df1,Name):\n",
    "    lastDf = df1.copy()\n",
    "    print(\"上年变化前:\",lastDf.shape)\n",
    "    dt = dict(zip(df[Name].values,df[Name].index))\n",
    "    lastDt = dict(zip(lastDf[Name].values,lastDf[Name].index))\n",
    "    # 本年,上年\n",
    "    addDf = DataFrame()\n",
    "    for name in df.loc[:,Name]:\n",
    "        # print(name)\n",
    "        if name in lastDf[Name].values:\n",
    "            # 上年有,替换\n",
    "            lastDf.loc[lastDt[name]] = df.loc[dt[name]]\n",
    "        else:\n",
    "            # 追加，lastDf = 不会改变！！！\n",
    "            lastDf = lastDf.append(df.loc[dt[name]])\n",
    "            print('=====新增',name,lastDf.shape)\n",
    "            #print(df.loc[dt[name]])\n",
    "    #print(addDf)\n",
    "    #print(lastDf)\n",
    "    #return pd.concat([lastDf,addDf])\n",
    "    print('上年变化后',lastDf.shape)\n",
    "    return lastDf"
   ]
  },
  {
   "cell_type": "code",
   "execution_count": null,
   "metadata": {},
   "outputs": [],
   "source": [
    "df2014 = insertAndCombine(df2014,df2013,'名称')\n",
    "df2015 = insertAndCombine(df2015,df2014,'名称')\n",
    "df2016 = insertAndCombine(df2016,df2015,'名称')\n",
    "df2017 = insertAndCombine(df2017,df2016,'名称')\n",
    "df2018 = insertAndCombine(df2018,df2017,'名称')"
   ]
  },
  {
   "cell_type": "code",
   "execution_count": null,
   "metadata": {},
   "outputs": [],
   "source": [
    "df2013.to_excel(r'C:\\Users\\WuChuPeng\\Desktop\\其他\\宁静\\2013.xlsx')\n",
    "df2014.to_excel(r'C:\\Users\\WuChuPeng\\Desktop\\其他\\宁静\\2014.xlsx')\n",
    "df2015.to_excel(r'C:\\Users\\WuChuPeng\\Desktop\\其他\\宁静\\2015.xlsx')\n",
    "df2016.to_excel(r'C:\\Users\\WuChuPeng\\Desktop\\其他\\宁静\\2016.xlsx')\n",
    "df2017.to_excel(r'C:\\Users\\WuChuPeng\\Desktop\\其他\\宁静\\2017.xlsx')\n",
    "df2018.to_excel(r'C:\\Users\\WuChuPeng\\Desktop\\其他\\宁静\\2018.xlsx')"
   ]
  },
  {
   "cell_type": "code",
   "execution_count": null,
   "metadata": {},
   "outputs": [],
   "source": [
    "print(df2013.shape,df2014.shape,df2015.shape,df2016.shape,df2017.shape,df2018.shape)"
   ]
  },
  {
   "cell_type": "markdown",
   "metadata": {},
   "source": [
    "# 6个小表的持股占比合并到另一个表里\n",
    "* 年份修改同一修改"
   ]
  },
  {
   "cell_type": "code",
   "execution_count": null,
   "metadata": {},
   "outputs": [],
   "source": [
    "# 指定第一列为索引\n",
    "# df6 = pd.read_excel(r'C:\\Users\\WuChuPeng\\Desktop\\其他\\宁静\\完成表.xlsx',index_col=0) "
   ]
  },
  {
   "cell_type": "code",
   "execution_count": null,
   "metadata": {},
   "outputs": [],
   "source": [
    "# 去掉.SZ\n",
    "def removeSt(str):\n",
    "    return str[0:-3]"
   ]
  },
  {
   "cell_type": "code",
   "execution_count": null,
   "metadata": {},
   "outputs": [],
   "source": [
    "df2013['代码'] = df2013['代码'].apply(removeSt)\n",
    "df2014['代码'] = df2014['代码'].apply(removeSt)\n",
    "df2015['代码'] = df2015['代码'].apply(removeSt)\n",
    "df2016['代码'] = df2016['代码'].apply(removeSt)\n",
    "df2017['代码'] = df2017['代码'].apply(removeSt)\n",
    "df2018['代码'] = df2018['代码'].apply(removeSt)"
   ]
  },
  {
   "cell_type": "code",
   "execution_count": null,
   "metadata": {},
   "outputs": [],
   "source": [
    "# 修改年份\n",
    "df2013['year'] = '2013-12-31'\n",
    "df2014['year'] = '2014-12-31'\n",
    "df2015['year'] = '2015-12-31'\n",
    "df2016['year'] = '2016-12-31'\n",
    "df2017['year'] = '2017-12-31'\n",
    "df2018['year'] = '2018-12-31'"
   ]
  },
  {
   "cell_type": "code",
   "execution_count": null,
   "metadata": {},
   "outputs": [],
   "source": [
    "# ID生成\n",
    "def createId(df,col1,col2):\n",
    "    df['ID'] = df.loc[:,col1]+df.loc[:,col2]"
   ]
  },
  {
   "cell_type": "code",
   "execution_count": null,
   "metadata": {},
   "outputs": [],
   "source": [
    "createId(df2013,'代码','year')\n",
    "createId(df2014,'代码','year')\n",
    "createId(df2015,'代码','year')\n",
    "createId(df2016,'代码','year')\n",
    "createId(df2017,'代码','year')\n",
    "createId(df2018,'代码','year')"
   ]
  },
  {
   "cell_type": "code",
   "execution_count": null,
   "metadata": {},
   "outputs": [],
   "source": [
    "# 合并持股比例到总表\n",
    "df6['持股比例'] = None\n",
    "# 把ID和索引做成字典方便检索\n",
    "dt = dict(zip(df6['ID'].values,df6['ID'].index))"
   ]
  },
  {
   "cell_type": "code",
   "execution_count": null,
   "metadata": {},
   "outputs": [],
   "source": [
    "# 找出有ID的两个表的索引\n",
    "ttt = 0\n",
    "def combineDfRate(df,df1,colName):\n",
    "    for idx in df1.index:\n",
    "        id =df1.loc[idx,'ID']\n",
    "        if id in dt:\n",
    "            print(id)\n",
    "            global ttt\n",
    "            ttt+=1\n",
    "            df.loc[dt[id],colName] = df1.loc[idx,colName]\n",
    "    return df"
   ]
  },
  {
   "cell_type": "code",
   "execution_count": null,
   "metadata": {},
   "outputs": [],
   "source": [
    "df6 = combineDfRate(df6,df2013,'持股比例')\n",
    "df6 = combineDfRate(df6,df2014,'持股比例')\n",
    "df6 = combineDfRate(df6,df2015,'持股比例')\n",
    "df6 = combineDfRate(df6,df2016,'持股比例')\n",
    "df6 = combineDfRate(df6,df2017,'持股比例')\n",
    "df6 = combineDfRate(df6,df2018,'持股比例')"
   ]
  },
  {
   "cell_type": "code",
   "execution_count": null,
   "metadata": {},
   "outputs": [],
   "source": [
    "#df6.to_excel(r'C:\\Users\\WuChuPeng\\Desktop\\其他\\宁静\\汇总表持股比例.xlsx')"
   ]
  },
  {
   "cell_type": "code",
   "execution_count": null,
   "metadata": {},
   "outputs": [],
   "source": [
    "df6.to_excel(r'C:\\Users\\WuChuPeng\\Desktop\\其他\\宁静\\汇总表持股比例未删减版.xlsx')"
   ]
  },
  {
   "cell_type": "markdown",
   "metadata": {},
   "source": [
    "# 根据股票代码进行筛选"
   ]
  },
  {
   "cell_type": "code",
   "execution_count": null,
   "metadata": {},
   "outputs": [],
   "source": [
    "dfidx = pd.read_excel(r'C:\\Users\\WuChuPeng\\Desktop\\其他\\宁静\\编号(1).xlsx')"
   ]
  },
  {
   "cell_type": "code",
   "execution_count": null,
   "metadata": {},
   "outputs": [],
   "source": [
    "# 96个股票代码\n",
    "stocks = np.append(dfidx.iloc[:,0].values,301)"
   ]
  },
  {
   "cell_type": "code",
   "execution_count": null,
   "metadata": {},
   "outputs": [],
   "source": [
    "df6.head()"
   ]
  },
  {
   "cell_type": "code",
   "execution_count": null,
   "metadata": {},
   "outputs": [],
   "source": [
    "# 索引过滤\n",
    "newDf = df6[[t in stocks for t in df6.iloc[:,0].values]]"
   ]
  },
  {
   "cell_type": "code",
   "execution_count": null,
   "metadata": {},
   "outputs": [],
   "source": [
    "newDf.to_excel(r'C:\\Users\\WuChuPeng\\Desktop\\其他\\宁静\\汇总表持股比例96未删减版.xlsx')"
   ]
  },
  {
   "cell_type": "code",
   "execution_count": null,
   "metadata": {},
   "outputs": [],
   "source": []
  }
 ],
 "metadata": {
  "kernelspec": {
   "display_name": "Python 3",
   "language": "python",
   "name": "python3"
  },
  "language_info": {
   "codemirror_mode": {
    "name": "ipython",
    "version": 3
   },
   "file_extension": ".py",
   "mimetype": "text/x-python",
   "name": "python",
   "nbconvert_exporter": "python",
   "pygments_lexer": "ipython3",
   "version": "3.7.3"
  }
 },
 "nbformat": 4,
 "nbformat_minor": 2
}
